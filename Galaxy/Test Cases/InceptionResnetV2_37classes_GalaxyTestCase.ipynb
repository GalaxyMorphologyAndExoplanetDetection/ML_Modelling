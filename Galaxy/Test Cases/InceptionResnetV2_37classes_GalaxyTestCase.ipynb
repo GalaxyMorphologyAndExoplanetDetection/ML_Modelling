{
  "cells": [
    {
      "cell_type": "code",
      "execution_count": 3,
      "metadata": {
        "colab": {
          "base_uri": "https://localhost:8080/"
        },
        "id": "I1lY3v5LBY2A",
        "outputId": "ed218826-76eb-4b83-e28f-40d1df230634"
      },
      "outputs": [],
      "source": [
        "from keras.models import load_model\n",
        "from keras.preprocessing.image import ImageDataGenerator\n",
        "\n",
        "model = load_model('D:/OneDrive/Major Project/HybridModel_37Classes/params/00007-test-train/model-36-0.15.hdf5')"
      ]
    },
    {
      "cell_type": "code",
      "execution_count": 4,
      "metadata": {
        "colab": {
          "base_uri": "https://localhost:8080/"
        },
        "id": "nEKiufP7bPmw",
        "outputId": "6afcd903-b42d-4008-9d36-b8af12ceadaa"
      },
      "outputs": [
        {
          "name": "stdout",
          "output_type": "stream",
          "text": [
            "Found 1 images belonging to 1 classes.\n"
          ]
        }
      ],
      "source": [
        "test_datagenerator = ImageDataGenerator(rescale=1/255)\n",
        "\n",
        "test_generator = test_datagenerator.flow_from_directory(\n",
        "    directory=\"D:/OneDrive/Major Project/Code/Galaxy_Morphology/Data/RSA\",\n",
        "    classes=['test_case'],\n",
        "    class_mode=None,\n",
        "    color_mode=\"rgb\",\n",
        "    batch_size=1,\n",
        "    target_size=(299, 299),\n",
        "    seed=123,\n",
        "    shuffle=False)"
      ]
    },
    {
      "cell_type": "code",
      "execution_count": 5,
      "metadata": {
        "colab": {
          "base_uri": "https://localhost:8080/"
        },
        "id": "W-Np429SB4OQ",
        "outputId": "77277cfa-2bfa-498c-a016-7f519feb107b"
      },
      "outputs": [
        {
          "name": "stdout",
          "output_type": "stream",
          "text": [
            "1/1 [==============================] - 13s 13s/step\n",
            "[[7.9172682e-03 3.6096007e-02 9.1143084e-09 4.5605198e-08 5.8220541e-01\n",
            "  9.8634541e-09 2.1123298e-01 1.8888103e-02 5.1472332e-02 2.4610589e-09\n",
            "  5.1512718e-08 9.0990584e-09 7.3653816e-09 1.9751955e-08 6.9965728e-02\n",
            "  1.6014548e-08 7.3321951e-03 1.1861107e-02 2.1594275e-09 1.8679733e-09\n",
            "  5.6782219e-09 1.3943594e-08 4.5155431e-09 3.6112047e-09 5.9155081e-09\n",
            "  3.0286091e-03 8.9354142e-09 2.8113433e-08 7.1741533e-09 1.4685604e-08\n",
            "  3.7787395e-09 4.9497899e-09 7.5808710e-09 6.1543122e-09 4.7485593e-09\n",
            "  3.8376311e-09 7.0104509e-09]]\n"
          ]
        }
      ],
      "source": [
        "predictions = model.predict(\n",
        "    test_generator,\n",
        "    steps=test_generator.n/test_generator.batch_size,\n",
        "    verbose=1)\n",
        "\n",
        "print(predictions)"
      ]
    },
    {
      "cell_type": "code",
      "execution_count": 6,
      "metadata": {
        "colab": {
          "base_uri": "https://localhost:8080/"
        },
        "id": "i5m_4UbAYNmc",
        "outputId": "cb09bd76-da8e-44e1-b2ab-bf21ce622537"
      },
      "outputs": [
        {
          "data": {
            "text/plain": [
              "(1, 37)"
            ]
          },
          "execution_count": 6,
          "metadata": {},
          "output_type": "execute_result"
        }
      ],
      "source": [
        "predictions.shape"
      ]
    },
    {
      "cell_type": "code",
      "execution_count": 7,
      "metadata": {},
      "outputs": [],
      "source": [
        "import sys\n",
        "sys.path.insert(0, 'D:/OneDrive/Major Project/Code/Galaxy_Morphology/Data/RSA/utils')\n",
        "import utils"
      ]
    },
    {
      "cell_type": "code",
      "execution_count": 11,
      "metadata": {},
      "outputs": [],
      "source": [
        "gClass = utils.classify(list(predictions[0]))"
      ]
    },
    {
      "cell_type": "code",
      "execution_count": 12,
      "metadata": {},
      "outputs": [
        {
          "name": "stdout",
          "output_type": "stream",
          "text": [
            "SBx\n"
          ]
        }
      ],
      "source": [
        "print(gClass)"
      ]
    }
  ],
  "metadata": {
    "accelerator": "GPU",
    "colab": {
      "collapsed_sections": [],
      "name": "Copy of Validation_GZ2_37_vectors.ipynb",
      "provenance": []
    },
    "kernelspec": {
      "display_name": "Python 3",
      "name": "python3"
    },
    "language_info": {
      "codemirror_mode": {
        "name": "ipython",
        "version": 3
      },
      "file_extension": ".py",
      "mimetype": "text/x-python",
      "name": "python",
      "nbconvert_exporter": "python",
      "pygments_lexer": "ipython3",
      "version": "3.7.13"
    }
  },
  "nbformat": 4,
  "nbformat_minor": 0
}

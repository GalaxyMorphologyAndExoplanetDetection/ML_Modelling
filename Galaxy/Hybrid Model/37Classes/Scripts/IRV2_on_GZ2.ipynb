{
 "cells": [
  {
   "cell_type": "code",
   "execution_count": 1,
   "metadata": {
    "id": "aiNA-Nk1fLuV"
   },
   "outputs": [],
   "source": [
    "import os\n",
    "import pandas as pd\n",
    "import numpy as np\n",
    "import tensorflow as tf\n",
    "import matplotlib.pyplot as plt\n",
    "import zipfile\n",
    "import io\n",
    "from PIL import Image\n",
    "import matplotlib.pyplot as plt\n",
    "from skimage.transform import resize\n",
    "from tensorflow import keras\n",
    "from tensorflow.keras.models import Model, load_model, Sequential\n",
    "from tensorflow.keras.layers import Input, Dense, Conv2D, Flatten\n",
    "from tensorflow.keras.optimizers import SGD, Adam\n",
    "from keras.applications.inception_resnet_v2 import InceptionResNetV2 as  PretrainedModel,preprocess_input\n",
    "from tensorflow.keras.preprocessing import image\n",
    "from tensorflow.keras.preprocessing.image import ImageDataGenerator, array_to_img, img_to_array, load_img\n",
    "from tensorflow.keras.callbacks import ModelCheckpoint, Callback, EarlyStopping"
   ]
  },
  {
   "cell_type": "code",
   "execution_count": 2,
   "metadata": {
    "id": "aVPRL-favf_R"
   },
   "outputs": [],
   "source": [
    "# zippath = '/content/drive/MyDrive/Major_Project/GZ-2/archive.zip'\n",
    "# z = zipfile.ZipFile(zippath)\n",
    "# imgname = 'images_gz2/images/233063.jpg'\n",
    "# im = Image.open(io.BytesIO(z.read(imgname)))\n",
    "# im_list = np.asarray(im)\n",
    "# plt.imshow(im_list)\n",
    "# plt.show()\n",
    "\n",
    "# z.close()"
   ]
  },
  {
   "cell_type": "code",
   "execution_count": 3,
   "metadata": {
    "id": "92C_zjalya_M"
   },
   "outputs": [],
   "source": [
    "# plt.figure(figsize=(16,4))\n",
    "# for i in range(3):\n",
    "#     plt.subplot(1,3,i+1)\n",
    "#     plt.imshow(im_list[:,:,i])\n",
    "#     plt.colorbar()\n",
    "# plt.show()"
   ]
  },
  {
   "cell_type": "code",
   "execution_count": 4,
   "metadata": {
    "id": "WU4rg13xBeqy"
   },
   "outputs": [],
   "source": [
    "# imgname = 'images_gz2/images/233063.jpg'\n",
    "# img = load_img(imgname)\n",
    "# data = img_to_array(img)\n",
    "# samples = np.expand_dims(data, 0)"
   ]
  },
  {
   "cell_type": "code",
   "execution_count": 5,
   "metadata": {
    "id": "Pdr8ezjSBOHx"
   },
   "outputs": [],
   "source": [
    "# def visualiseAugmentation(datagen):\n",
    "#   it = datagen.flow(samples, batch_size=1)\n",
    "#   plt.figure(figsize=(15,15))\n",
    "#   for i in range(9):\n",
    "#     plt.subplot(330 + 1 + i)\n",
    "#     batch = it.next()\n",
    "#     image = batch[0].astype('uint8')\n",
    "#     plt.imshow(image)\n",
    "#   plt.show()"
   ]
  },
  {
   "cell_type": "code",
   "execution_count": 6,
   "metadata": {
    "id": "_7ei5mOJ8eJO"
   },
   "outputs": [],
   "source": [
    "# widthShift = ImageDataGenerator(width_shift_range=[-200,200])\n",
    "# visualiseAugmentation(widthShift)"
   ]
  },
  {
   "cell_type": "code",
   "execution_count": 7,
   "metadata": {
    "id": "kbWUuossBtey"
   },
   "outputs": [],
   "source": [
    "# zoomRange = ImageDataGenerator(zoom_range=[0.4, 0.7])\n",
    "# visualiseAugmentation(zoomRange)"
   ]
  },
  {
   "cell_type": "code",
   "execution_count": 8,
   "metadata": {
    "id": "DseMWF9yCXVw"
   },
   "outputs": [],
   "source": [
    "# rotation_range = ImageDataGenerator(rotation_range=90)\n",
    "# visualiseAugmentation(rotation_range)"
   ]
  },
  {
   "cell_type": "code",
   "execution_count": 9,
   "metadata": {
    "id": "b6OSr6SeCcwy"
   },
   "outputs": [],
   "source": [
    "# shear_range = ImageDataGenerator(shear_range=0.7)\n",
    "# visualiseAugmentation(shear_range)"
   ]
  },
  {
   "cell_type": "code",
   "execution_count": 10,
   "metadata": {
    "id": "DMwI1_jAsjzW"
   },
   "outputs": [],
   "source": [
    "def append_ext(fn):\n",
    "    '''\n",
    "    This function is used to take the GalaxyID from the CSV and append .jpg to it in order to denote the image names. \n",
    "    '''\n",
    "    return fn + \".jpg\"\n",
    "\n",
    "\n",
    "traindf = pd.read_csv('D:/OneDrive/Major Project/HybridModel_37Classes/GZ_2_Processed_classes.csv') \n",
    "\n",
    "traindf[\"id\"] = traindf['GalaxyID'].astype(str).apply(append_ext) "
   ]
  },
  {
   "cell_type": "code",
   "execution_count": 11,
   "metadata": {
    "id": "9UPps1Vys9yg"
   },
   "outputs": [],
   "source": [
    "classes = [\n",
    "    'Class1.1', 'Class1.2', 'Class1.3', 'Class2.1', 'Class2.2', 'Class3.1',\n",
    "    'Class3.2', 'Class4.1', 'Class4.2', 'Class5.1', 'Class5.2', 'Class5.3',\n",
    "    'Class5.4', 'Class6.1', 'Class6.2', 'Class7.1', 'Class7.2', 'Class7.3',\n",
    "    'Class8.1', 'Class8.2', 'Class8.3', 'Class8.4', 'Class8.5', 'Class8.6',\n",
    "    'Class8.7', 'Class9.1', 'Class9.2', 'Class9.3', 'Class10.1', 'Class10.2',\n",
    "    'Class10.3', 'Class11.1', 'Class11.2', 'Class11.3', 'Class11.4',\n",
    "    'Class11.5', 'Class11.6'\n",
    "]"
   ]
  },
  {
   "cell_type": "code",
   "execution_count": 12,
   "metadata": {
    "id": "sHZxc2T6tBpy"
   },
   "outputs": [],
   "source": [
    "datagenerator = ImageDataGenerator(\n",
    "    fill_mode='nearest',\n",
    "    cval=0,\n",
    "    rescale=1/255,\n",
    "    rotation_range=25,\n",
    "    shear_range=0.2,\n",
    "    width_shift_range=[0.1, 0.15],\n",
    "    height_shift_range=[0.1, 0.15],\n",
    "    horizontal_flip=True,\n",
    "    vertical_flip=True,\n",
    "    zoom_range=[0.4, 0.7],\n",
    "    validation_split=0.025)"
   ]
  },
  {
   "cell_type": "code",
   "execution_count": 13,
   "metadata": {
    "colab": {
     "base_uri": "https://localhost:8080/"
    },
    "id": "ihnVZH_OjX6l",
    "outputId": "e930008b-c1f0-4859-81bd-af6069f2871e"
   },
   "outputs": [
    {
     "name": "stderr",
     "output_type": "stream",
     "text": [
      "D:\\anaconda\\envs\\python37majorproject\\lib\\site-packages\\keras_preprocessing\\image\\dataframe_iterator.py:282: UserWarning: Found 108 invalid image filename(s) in x_col=\"id\". These filename(s) will be ignored.\n",
      "  .format(n_invalid, x_col)\n"
     ]
    },
    {
     "name": "stdout",
     "output_type": "stream",
     "text": [
      "Found 198632 validated image filenames.\n",
      "Found 5093 validated image filenames.\n"
     ]
    }
   ],
   "source": [
    "train_generator = datagenerator.flow_from_dataframe(\n",
    "    dataframe=traindf,\n",
    "    directory=\"D:/Rahul Noronha/Shared Folder/Eighth Semester/Major Project/Data/images\",\n",
    "    x_col=\"id\",\n",
    "    y_col=classes,\n",
    "    subset=\"training\",\n",
    "    batch_size=64,\n",
    "    seed=123,\n",
    "    shuffle=True,\n",
    "    class_mode=\"raw\",\n",
    "    target_size=(299, 299))\n",
    "\n",
    "validation_generator = datagenerator.flow_from_dataframe(\n",
    "    dataframe=traindf,\n",
    "    directory=\"D:/Rahul Noronha/Shared Folder/Eighth Semester/Major Project/Data/images\",\n",
    "    x_col=\"id\",\n",
    "    y_col=classes,\n",
    "    subset=\"validation\",\n",
    "    batch_size=16,\n",
    "    seed=123,\n",
    "    shuffle=True,\n",
    "    class_mode=\"raw\",\n",
    "    target_size=(299, 299))\n",
    "\n",
    "STEP_SIZE_TRAIN = train_generator.n // train_generator.batch_size\n",
    "STEP_SIZE_VALID = validation_generator.n // validation_generator.batch_size"
   ]
  },
  {
   "cell_type": "code",
   "execution_count": 14,
   "metadata": {
    "id": "6w3gS41AP4v_"
   },
   "outputs": [],
   "source": [
    "import os\n",
    "import re\n",
    "import sys\n",
    "import time\n",
    "import numpy as np\n",
    "from typing import Any, List, Tuple, Union\n",
    "from tensorflow.keras.datasets import mnist\n",
    "from tensorflow.keras import backend as K\n",
    "import tensorflow as tf\n",
    "import tensorflow.keras\n",
    "import tensorflow as tf\n",
    "from tensorflow.keras.callbacks import EarlyStopping, \\\n",
    "  LearningRateScheduler, ModelCheckpoint\n",
    "from tensorflow.keras import regularizers\n",
    "from tensorflow.keras.models import Sequential\n",
    "from tensorflow.keras.layers import Dense, Dropout, Flatten\n",
    "from tensorflow.keras.layers import Conv2D, MaxPooling2D\n",
    "from tensorflow.keras.models import load_model\n",
    "import pickle"
   ]
  },
  {
   "cell_type": "code",
   "execution_count": 15,
   "metadata": {
    "id": "rs1q1IAaP0xO"
   },
   "outputs": [],
   "source": [
    "def generate_output_dir(outdir, run_desc):\n",
    "    prev_run_dirs = []\n",
    "    if os.path.isdir(outdir):\n",
    "        prev_run_dirs = [x for x in os.listdir(outdir) if os.path.isdir(\\\n",
    "            os.path.join(outdir, x))]\n",
    "    prev_run_ids = [re.match(r'^\\d+', x) for x in prev_run_dirs]\n",
    "    prev_run_ids = [int(x.group()) for x in prev_run_ids if x is not None]\n",
    "    cur_run_id = max(prev_run_ids, default=-1) + 1\n",
    "    run_dir = os.path.join(outdir, f'{cur_run_id:05d}-{run_desc}')\n",
    "    assert not os.path.exists(run_dir)\n",
    "    os.makedirs(run_dir)\n",
    "    return run_dir\n",
    "\n",
    "# From StyleGAN2\n",
    "class Logger(object):\n",
    "    \"\"\"Redirect stderr to stdout, optionally print stdout to a file, and \n",
    "    optionally force flushing on both stdout and the file.\"\"\"\n",
    "\n",
    "    def __init__(self, file_name: str = None, file_mode: str = \"w\", \\\n",
    "                 should_flush: bool = True):\n",
    "        self.file = None\n",
    "\n",
    "        if file_name is not None:\n",
    "            self.file = open(file_name, file_mode)\n",
    "\n",
    "        self.should_flush = should_flush\n",
    "        self.stdout = sys.stdout\n",
    "        self.stderr = sys.stderr\n",
    "\n",
    "        sys.stdout = self\n",
    "        sys.stderr = self\n",
    "\n",
    "    def __enter__(self) -> \"Logger\":\n",
    "        return self\n",
    "\n",
    "    def __exit__(self, exc_type: Any, exc_value: Any, \\\n",
    "                 traceback: Any) -> None:\n",
    "        self.close()\n",
    "\n",
    "    def write(self, text: str) -> None:\n",
    "        \"\"\"Write text to stdout (and a file) and optionally flush.\"\"\"\n",
    "        if len(text) == 0: \n",
    "            return\n",
    "\n",
    "        if self.file is not None:\n",
    "            self.file.write(text)\n",
    "\n",
    "        self.stdout.write(text)\n",
    "\n",
    "        if self.should_flush:\n",
    "            self.flush()\n",
    "\n",
    "    def flush(self) -> None:\n",
    "        \"\"\"Flush written text to both stdout and a file, if open.\"\"\"\n",
    "        if self.file is not None:\n",
    "            self.file.flush()\n",
    "\n",
    "        self.stdout.flush()\n",
    "\n",
    "    def close(self) -> None:\n",
    "        \"\"\"Flush, close possible files, and remove \n",
    "            stdout/stderr mirroring.\"\"\"\n",
    "        self.flush()\n",
    "\n",
    "        # if using multiple loggers, prevent closing in wrong order\n",
    "        if sys.stdout is self:\n",
    "            sys.stdout = self.stdout\n",
    "        if sys.stderr is self:\n",
    "            sys.stderr = self.stderr\n",
    "\n",
    "        if self.file is not None:\n",
    "            self.file.close()\n"
   ]
  },
  {
   "cell_type": "code",
   "execution_count": 16,
   "metadata": {
    "colab": {
     "base_uri": "https://localhost:8080/"
    },
    "id": "rIFkAUBxSqVt",
    "outputId": "5e57486f-80c5-4b75-e273-a9a93d5e6778"
   },
   "outputs": [
    {
     "name": "stdout",
     "output_type": "stream",
     "text": [
      "Results saved to: D:/OneDrive/Major Project/HybridModel_37Classes/params/00010-test-train\n"
     ]
    }
   ],
   "source": [
    "outdir = \"D:/OneDrive/Major Project/HybridModel_37Classes/params/\"\n",
    "run_desc = \"test-train\"\n",
    "batch_size = 128\n",
    "num_classes = len(classes)\n",
    "\n",
    "run_dir = generate_output_dir(outdir, run_desc)\n",
    "print(f\"Results saved to: {run_dir}\")"
   ]
  },
  {
   "cell_type": "code",
   "execution_count": 17,
   "metadata": {
    "id": "Cz-gDBwyTE3i"
   },
   "outputs": [],
   "source": [
    "class MyModelCheckpoint(ModelCheckpoint):\n",
    "  def __init__(self, *args, **kwargs):\n",
    "    super().__init__(*args, **kwargs)\n",
    "\n",
    "  def on_epoch_end(self, epoch, logs):\n",
    "    super().on_epoch_end(epoch,logs)\\\n",
    "\n",
    "    # Also save the optimizer state\n",
    "    filepath = self._get_file_path(epoch, logs=logs, batch=2)\n",
    "    filepath = filepath.rsplit( \".\", 1 )[ 0 ] \n",
    "    filepath += \".pkl\"\n",
    "\n",
    "    with open(filepath, 'wb') as fp:\n",
    "      pickle.dump(\n",
    "        {\n",
    "          'opt': hybridModel.optimizer.get_config(),\n",
    "          'epoch': epoch+1\n",
    "         # Add additional keys if you need to store more values\n",
    "        }, fp, protocol=pickle.HIGHEST_PROTOCOL)\n",
    "    print('\\nEpoch %05d: saving optimizer to %s' % (epoch + 1, filepath))"
   ]
  },
  {
   "cell_type": "code",
   "execution_count": 18,
   "metadata": {
    "id": "dpgP3z7PVXdV"
   },
   "outputs": [],
   "source": [
    "def step_decay_schedule(initial_lr=1e-3, decay_factor=0.75, step_size=10):\n",
    "    def schedule(epoch):\n",
    "        return initial_lr * (decay_factor ** np.floor(epoch/step_size))\n",
    "    return LearningRateScheduler(schedule)"
   ]
  },
  {
   "cell_type": "code",
   "execution_count": 19,
   "metadata": {
    "id": "hR9nobQxZFqI"
   },
   "outputs": [],
   "source": [
    "# from tensorflow.keras.applications import DenseNet121, VGG16, ResNet50V2, MobileNetV2, EfficientNetB0, Xception\n",
    "\n",
    "img_shape = (299, 299, 3)\n",
    "num_classes = len(classes)\n",
    "\n",
    "def build_model(img_shape, num_classes):\n",
    "    hybridModel = Sequential()\n",
    "\n",
    "    pretrained_model = PretrainedModel(\n",
    "            input_shape = img_shape,\n",
    "            weights = 'imagenet',\n",
    "            include_top = False\n",
    "\n",
    "    )\n",
    "    for layer in pretrained_model.layers:\n",
    "            layer.trainable=False\n",
    "\n",
    "    hybridModel.add(pretrained_model)\n",
    "    hybridModel.add(Flatten())\n",
    "    hybridModel.add(Dense(len(classes), activation='softmax'))\n",
    "    optimizer = keras.optimizers.Adam()\n",
    "    hybridModel.compile(optimizer, loss='mse', metrics=[\"accuracy\"])\n",
    "    return hybridModel\n",
    "\n",
    "def train_model(hybridModel, initial_epoch=0, max_epochs=10):\n",
    "    start_time = time.time()\n",
    "\n",
    "    checkpoint_cb = MyModelCheckpoint(\n",
    "        os.path.join(run_dir, 'model-{epoch:02d}-{val_loss:.2f}.hdf5'),\n",
    "        monitor='val_loss',verbose=1)\n",
    "\n",
    "    lr_sched_cb = step_decay_schedule(initial_lr=3.9922e-21, decay_factor=0.75, \\\n",
    "                                      step_size=9)\n",
    "    cb = [checkpoint_cb, lr_sched_cb]\n",
    "\n",
    "    hist = hybridModel.fit(\n",
    "    train_generator,\n",
    "    steps_per_epoch=STEP_SIZE_TRAIN,\n",
    "    validation_data=validation_generator,\n",
    "    validation_steps=STEP_SIZE_VALID,\n",
    "    epochs=max_epochs,\n",
    "    initial_epoch = initial_epoch,\n",
    "    callbacks=cb)\n",
    "\n"
   ]
  },
  {
   "cell_type": "code",
   "execution_count": 20,
   "metadata": {
    "id": "MGyM4Qk43hIU"
   },
   "outputs": [],
   "source": [
    "# with Logger(os.path.join(run_dir, 'log.txt')):\n",
    "#   hybridModel = build_model(img_shape, num_classes)\n",
    "#   train_model(hybridModel)"
   ]
  },
  {
   "cell_type": "code",
   "execution_count": 21,
   "metadata": {
    "id": "1h6C084CClgB"
   },
   "outputs": [],
   "source": [
    "# !ls '/content/drive/MyDrive/Major Project/Galaxy_Morphology/Data/GalaxyZoo2/model/params'"
   ]
  },
  {
   "cell_type": "code",
   "execution_count": 22,
   "metadata": {
    "id": "EwDz3D_OC0Tg"
   },
   "outputs": [],
   "source": [
    "MODEL_PATH = 'D:/OneDrive/Major Project/HybridModel_37Classes/params/00009-test-train/model-72-0.15.hdf5'\n",
    "OPT_PATH = 'D:/OneDrive/Major Project/HybridModel_37Classes/params/00009-test-train/model-72-0.15.pkl'"
   ]
  },
  {
   "cell_type": "code",
   "execution_count": 23,
   "metadata": {
    "colab": {
     "base_uri": "https://localhost:8080/"
    },
    "id": "YXp4QRf6Jwh3",
    "outputId": "e57e9bda-e17f-4460-fe4b-64e05be8fddf"
   },
   "outputs": [
    {
     "name": "stdout",
     "output_type": "stream",
     "text": [
      "Epoch 73/100\n",
      "3103/3103 [==============================] - ETA: 0s - loss: 0.1562 - accuracy: 0.3704\n",
      "Epoch 73: saving model to D:/OneDrive/Major Project/HybridModel_37Classes/params/00010-test-train\\model-73-0.15.hdf5\n",
      "\n",
      "Epoch 00073: saving optimizer to D:/OneDrive/Major Project/HybridModel_37Classes/params/00010-test-train\\model-73-0.15.pkl\n",
      "3103/3103 [==============================] - 9043s 3s/step - loss: 0.1562 - accuracy: 0.3704 - val_loss: 0.1484 - val_accuracy: 0.2824 - lr: 3.9967e-22\n",
      "Epoch 74/100\n",
      "3103/3103 [==============================] - ETA: 0s - loss: 0.1562 - accuracy: 0.3716\n",
      "Epoch 74: saving model to D:/OneDrive/Major Project/HybridModel_37Classes/params/00010-test-train\\model-74-0.15.hdf5\n",
      "\n",
      "Epoch 00074: saving optimizer to D:/OneDrive/Major Project/HybridModel_37Classes/params/00010-test-train\\model-74-0.15.pkl\n",
      "3103/3103 [==============================] - 5514s 2s/step - loss: 0.1562 - accuracy: 0.3716 - val_loss: 0.1484 - val_accuracy: 0.2822 - lr: 3.9967e-22\n",
      "Epoch 75/100\n",
      "3103/3103 [==============================] - ETA: 0s - loss: 0.1562 - accuracy: 0.3717\n",
      "Epoch 75: saving model to D:/OneDrive/Major Project/HybridModel_37Classes/params/00010-test-train\\model-75-0.15.hdf5\n",
      "\n",
      "Epoch 00075: saving optimizer to D:/OneDrive/Major Project/HybridModel_37Classes/params/00010-test-train\\model-75-0.15.pkl\n",
      "3103/3103 [==============================] - 3517s 1s/step - loss: 0.1562 - accuracy: 0.3717 - val_loss: 0.1484 - val_accuracy: 0.2921 - lr: 3.9967e-22\n",
      "Epoch 76/100\n",
      "3103/3103 [==============================] - ETA: 0s - loss: 0.1562 - accuracy: 0.3708\n",
      "Epoch 76: saving model to D:/OneDrive/Major Project/HybridModel_37Classes/params/00010-test-train\\model-76-0.15.hdf5\n",
      "\n",
      "Epoch 00076: saving optimizer to D:/OneDrive/Major Project/HybridModel_37Classes/params/00010-test-train\\model-76-0.15.pkl\n",
      "3103/3103 [==============================] - 3788s 1s/step - loss: 0.1562 - accuracy: 0.3708 - val_loss: 0.1484 - val_accuracy: 0.2828 - lr: 3.9967e-22\n",
      "Epoch 77/100\n",
      "3103/3103 [==============================] - ETA: 0s - loss: 0.1562 - accuracy: 0.3708\n",
      "Epoch 77: saving model to D:/OneDrive/Major Project/HybridModel_37Classes/params/00010-test-train\\model-77-0.15.hdf5\n",
      "\n",
      "Epoch 00077: saving optimizer to D:/OneDrive/Major Project/HybridModel_37Classes/params/00010-test-train\\model-77-0.15.pkl\n",
      "3103/3103 [==============================] - 3798s 1s/step - loss: 0.1562 - accuracy: 0.3708 - val_loss: 0.1484 - val_accuracy: 0.2848 - lr: 3.9967e-22\n",
      "Epoch 78/100\n",
      "3103/3103 [==============================] - ETA: 0s - loss: 0.1562 - accuracy: 0.3720\n",
      "Epoch 78: saving model to D:/OneDrive/Major Project/HybridModel_37Classes/params/00010-test-train\\model-78-0.15.hdf5\n",
      "\n",
      "Epoch 00078: saving optimizer to D:/OneDrive/Major Project/HybridModel_37Classes/params/00010-test-train\\model-78-0.15.pkl\n",
      "3103/3103 [==============================] - 3594s 1s/step - loss: 0.1562 - accuracy: 0.3720 - val_loss: 0.1484 - val_accuracy: 0.2858 - lr: 3.9967e-22\n",
      "Epoch 79/100\n",
      "3103/3103 [==============================] - ETA: 0s - loss: 0.1562 - accuracy: 0.3720\n",
      "Epoch 79: saving model to D:/OneDrive/Major Project/HybridModel_37Classes/params/00010-test-train\\model-79-0.15.hdf5\n",
      "\n",
      "Epoch 00079: saving optimizer to D:/OneDrive/Major Project/HybridModel_37Classes/params/00010-test-train\\model-79-0.15.pkl\n",
      "3103/3103 [==============================] - 3394s 1s/step - loss: 0.1562 - accuracy: 0.3720 - val_loss: 0.1485 - val_accuracy: 0.2856 - lr: 3.9967e-22\n",
      "Epoch 80/100\n",
      "3103/3103 [==============================] - ETA: 0s - loss: 0.1562 - accuracy: 0.3716\n",
      "Epoch 80: saving model to D:/OneDrive/Major Project/HybridModel_37Classes/params/00010-test-train\\model-80-0.15.hdf5\n",
      "\n",
      "Epoch 00080: saving optimizer to D:/OneDrive/Major Project/HybridModel_37Classes/params/00010-test-train\\model-80-0.15.pkl\n",
      "3103/3103 [==============================] - 3387s 1s/step - loss: 0.1562 - accuracy: 0.3716 - val_loss: 0.1484 - val_accuracy: 0.2869 - lr: 3.9967e-22\n",
      "Epoch 81/100\n",
      "3103/3103 [==============================] - ETA: 0s - loss: 0.1562 - accuracy: 0.3705\n",
      "Epoch 81: saving model to D:/OneDrive/Major Project/HybridModel_37Classes/params/00010-test-train\\model-81-0.15.hdf5\n",
      "\n",
      "Epoch 00081: saving optimizer to D:/OneDrive/Major Project/HybridModel_37Classes/params/00010-test-train\\model-81-0.15.pkl\n",
      "3103/3103 [==============================] - 6415s 2s/step - loss: 0.1562 - accuracy: 0.3705 - val_loss: 0.1484 - val_accuracy: 0.2811 - lr: 3.9967e-22\n",
      "Epoch 82/100\n",
      "3103/3103 [==============================] - ETA: 0s - loss: 0.1562 - accuracy: 0.3712\n",
      "Epoch 82: saving model to D:/OneDrive/Major Project/HybridModel_37Classes/params/00010-test-train\\model-82-0.15.hdf5\n",
      "\n",
      "Epoch 00082: saving optimizer to D:/OneDrive/Major Project/HybridModel_37Classes/params/00010-test-train\\model-82-0.15.pkl\n",
      "3103/3103 [==============================] - 6792s 2s/step - loss: 0.1562 - accuracy: 0.3712 - val_loss: 0.1484 - val_accuracy: 0.2869 - lr: 2.9975e-22\n",
      "Epoch 83/100\n",
      "3103/3103 [==============================] - ETA: 0s - loss: 0.1562 - accuracy: 0.3703\n",
      "Epoch 83: saving model to D:/OneDrive/Major Project/HybridModel_37Classes/params/00010-test-train\\model-83-0.15.hdf5\n",
      "\n",
      "Epoch 00083: saving optimizer to D:/OneDrive/Major Project/HybridModel_37Classes/params/00010-test-train\\model-83-0.15.pkl\n",
      "3103/3103 [==============================] - 6354s 2s/step - loss: 0.1562 - accuracy: 0.3703 - val_loss: 0.1484 - val_accuracy: 0.2932 - lr: 2.9975e-22\n",
      "Epoch 84/100\n",
      "3103/3103 [==============================] - ETA: 0s - loss: 0.1562 - accuracy: 0.3709\n",
      "Epoch 84: saving model to D:/OneDrive/Major Project/HybridModel_37Classes/params/00010-test-train\\model-84-0.15.hdf5\n",
      "\n",
      "Epoch 00084: saving optimizer to D:/OneDrive/Major Project/HybridModel_37Classes/params/00010-test-train\\model-84-0.15.pkl\n",
      "3103/3103 [==============================] - 4343s 1s/step - loss: 0.1562 - accuracy: 0.3709 - val_loss: 0.1484 - val_accuracy: 0.2848 - lr: 2.9975e-22\n",
      "Epoch 85/100\n",
      "3103/3103 [==============================] - ETA: 0s - loss: 0.1562 - accuracy: 0.3713\n",
      "Epoch 85: saving model to D:/OneDrive/Major Project/HybridModel_37Classes/params/00010-test-train\\model-85-0.15.hdf5\n",
      "\n",
      "Epoch 00085: saving optimizer to D:/OneDrive/Major Project/HybridModel_37Classes/params/00010-test-train\\model-85-0.15.pkl\n",
      "3103/3103 [==============================] - 4318s 1s/step - loss: 0.1562 - accuracy: 0.3713 - val_loss: 0.1484 - val_accuracy: 0.2836 - lr: 2.9975e-22\n",
      "Epoch 86/100\n",
      "3103/3103 [==============================] - ETA: 0s - loss: 0.1562 - accuracy: 0.3718\n",
      "Epoch 86: saving model to D:/OneDrive/Major Project/HybridModel_37Classes/params/00010-test-train\\model-86-0.15.hdf5\n",
      "\n",
      "Epoch 00086: saving optimizer to D:/OneDrive/Major Project/HybridModel_37Classes/params/00010-test-train\\model-86-0.15.pkl\n",
      "3103/3103 [==============================] - 3866s 1s/step - loss: 0.1562 - accuracy: 0.3718 - val_loss: 0.1484 - val_accuracy: 0.2783 - lr: 2.9975e-22\n",
      "Epoch 87/100\n",
      "3103/3103 [==============================] - ETA: 0s - loss: 0.1562 - accuracy: 0.3714\n",
      "Epoch 87: saving model to D:/OneDrive/Major Project/HybridModel_37Classes/params/00010-test-train\\model-87-0.15.hdf5\n",
      "\n",
      "Epoch 00087: saving optimizer to D:/OneDrive/Major Project/HybridModel_37Classes/params/00010-test-train\\model-87-0.15.pkl\n",
      "3103/3103 [==============================] - 7551s 2s/step - loss: 0.1562 - accuracy: 0.3714 - val_loss: 0.1484 - val_accuracy: 0.2891 - lr: 2.9975e-22\n",
      "Epoch 88/100\n",
      "3103/3103 [==============================] - ETA: 0s - loss: 0.1562 - accuracy: 0.3709\n",
      "Epoch 88: saving model to D:/OneDrive/Major Project/HybridModel_37Classes/params/00010-test-train\\model-88-0.15.hdf5\n",
      "\n",
      "Epoch 00088: saving optimizer to D:/OneDrive/Major Project/HybridModel_37Classes/params/00010-test-train\\model-88-0.15.pkl\n",
      "3103/3103 [==============================] - 4512s 1s/step - loss: 0.1562 - accuracy: 0.3709 - val_loss: 0.1484 - val_accuracy: 0.2875 - lr: 2.9975e-22\n",
      "Epoch 89/100\n",
      "3103/3103 [==============================] - ETA: 0s - loss: 0.1562 - accuracy: 0.3719\n",
      "Epoch 89: saving model to D:/OneDrive/Major Project/HybridModel_37Classes/params/00010-test-train\\model-89-0.15.hdf5\n",
      "\n",
      "Epoch 00089: saving optimizer to D:/OneDrive/Major Project/HybridModel_37Classes/params/00010-test-train\\model-89-0.15.pkl\n",
      "3103/3103 [==============================] - 4748s 2s/step - loss: 0.1562 - accuracy: 0.3719 - val_loss: 0.1484 - val_accuracy: 0.2905 - lr: 2.9975e-22\n",
      "Epoch 90/100\n",
      "3103/3103 [==============================] - ETA: 0s - loss: 0.1562 - accuracy: 0.3711\n",
      "Epoch 90: saving model to D:/OneDrive/Major Project/HybridModel_37Classes/params/00010-test-train\\model-90-0.15.hdf5\n",
      "\n",
      "Epoch 00090: saving optimizer to D:/OneDrive/Major Project/HybridModel_37Classes/params/00010-test-train\\model-90-0.15.pkl\n",
      "3103/3103 [==============================] - 6426s 2s/step - loss: 0.1562 - accuracy: 0.3711 - val_loss: 0.1484 - val_accuracy: 0.2868 - lr: 2.9975e-22\n",
      "Epoch 91/100\n",
      "3103/3103 [==============================] - ETA: 0s - loss: 0.1562 - accuracy: 0.3708\n",
      "Epoch 91: saving model to D:/OneDrive/Major Project/HybridModel_37Classes/params/00010-test-train\\model-91-0.15.hdf5\n",
      "\n",
      "Epoch 00091: saving optimizer to D:/OneDrive/Major Project/HybridModel_37Classes/params/00010-test-train\\model-91-0.15.pkl\n",
      "3103/3103 [==============================] - 7142s 2s/step - loss: 0.1562 - accuracy: 0.3708 - val_loss: 0.1484 - val_accuracy: 0.2732 - lr: 2.2481e-22\n",
      "Epoch 92/100\n",
      "3103/3103 [==============================] - ETA: 0s - loss: 0.1562 - accuracy: 0.3698\n",
      "Epoch 92: saving model to D:/OneDrive/Major Project/HybridModel_37Classes/params/00010-test-train\\model-92-0.15.hdf5\n",
      "\n",
      "Epoch 00092: saving optimizer to D:/OneDrive/Major Project/HybridModel_37Classes/params/00010-test-train\\model-92-0.15.pkl\n",
      "3103/3103 [==============================] - 3785s 1s/step - loss: 0.1562 - accuracy: 0.3698 - val_loss: 0.1484 - val_accuracy: 0.2875 - lr: 2.2481e-22\n",
      "Epoch 93/100\n",
      "3103/3103 [==============================] - ETA: 0s - loss: 0.1562 - accuracy: 0.3715\n",
      "Epoch 93: saving model to D:/OneDrive/Major Project/HybridModel_37Classes/params/00010-test-train\\model-93-0.15.hdf5\n",
      "\n",
      "Epoch 00093: saving optimizer to D:/OneDrive/Major Project/HybridModel_37Classes/params/00010-test-train\\model-93-0.15.pkl\n",
      "3103/3103 [==============================] - 6004s 2s/step - loss: 0.1562 - accuracy: 0.3715 - val_loss: 0.1484 - val_accuracy: 0.2840 - lr: 2.2481e-22\n",
      "Epoch 94/100\n",
      "3103/3103 [==============================] - ETA: 0s - loss: 0.1562 - accuracy: 0.3707\n",
      "Epoch 94: saving model to D:/OneDrive/Major Project/HybridModel_37Classes/params/00010-test-train\\model-94-0.15.hdf5\n",
      "\n",
      "Epoch 00094: saving optimizer to D:/OneDrive/Major Project/HybridModel_37Classes/params/00010-test-train\\model-94-0.15.pkl\n",
      "3103/3103 [==============================] - 4784s 2s/step - loss: 0.1562 - accuracy: 0.3707 - val_loss: 0.1484 - val_accuracy: 0.2915 - lr: 2.2481e-22\n",
      "Epoch 95/100\n",
      "3103/3103 [==============================] - ETA: 0s - loss: 0.1562 - accuracy: 0.3713\n",
      "Epoch 95: saving model to D:/OneDrive/Major Project/HybridModel_37Classes/params/00010-test-train\\model-95-0.15.hdf5\n",
      "\n",
      "Epoch 00095: saving optimizer to D:/OneDrive/Major Project/HybridModel_37Classes/params/00010-test-train\\model-95-0.15.pkl\n",
      "3103/3103 [==============================] - 3784s 1s/step - loss: 0.1562 - accuracy: 0.3713 - val_loss: 0.1485 - val_accuracy: 0.2814 - lr: 2.2481e-22\n",
      "Epoch 96/100\n",
      "3103/3103 [==============================] - ETA: 0s - loss: 0.1562 - accuracy: 0.3715\n",
      "Epoch 96: saving model to D:/OneDrive/Major Project/HybridModel_37Classes/params/00010-test-train\\model-96-0.15.hdf5\n",
      "\n",
      "Epoch 00096: saving optimizer to D:/OneDrive/Major Project/HybridModel_37Classes/params/00010-test-train\\model-96-0.15.pkl\n",
      "3103/3103 [==============================] - 3339s 1s/step - loss: 0.1562 - accuracy: 0.3715 - val_loss: 0.1484 - val_accuracy: 0.2881 - lr: 2.2481e-22\n",
      "Epoch 97/100\n",
      "3103/3103 [==============================] - ETA: 0s - loss: 0.1562 - accuracy: 0.3724\n",
      "Epoch 97: saving model to D:/OneDrive/Major Project/HybridModel_37Classes/params/00010-test-train\\model-97-0.15.hdf5\n",
      "\n",
      "Epoch 00097: saving optimizer to D:/OneDrive/Major Project/HybridModel_37Classes/params/00010-test-train\\model-97-0.15.pkl\n",
      "3103/3103 [==============================] - 3248s 1s/step - loss: 0.1562 - accuracy: 0.3724 - val_loss: 0.1484 - val_accuracy: 0.2836 - lr: 2.2481e-22\n",
      "Epoch 98/100\n",
      "3103/3103 [==============================] - ETA: 0s - loss: 0.1562 - accuracy: 0.3723\n",
      "Epoch 98: saving model to D:/OneDrive/Major Project/HybridModel_37Classes/params/00010-test-train\\model-98-0.15.hdf5\n",
      "\n",
      "Epoch 00098: saving optimizer to D:/OneDrive/Major Project/HybridModel_37Classes/params/00010-test-train\\model-98-0.15.pkl\n",
      "3103/3103 [==============================] - 3881s 1s/step - loss: 0.1562 - accuracy: 0.3723 - val_loss: 0.1484 - val_accuracy: 0.2858 - lr: 2.2481e-22\n",
      "Epoch 99/100\n",
      "3103/3103 [==============================] - ETA: 0s - loss: 0.1562 - accuracy: 0.3724\n",
      "Epoch 99: saving model to D:/OneDrive/Major Project/HybridModel_37Classes/params/00010-test-train\\model-99-0.15.hdf5\n",
      "\n",
      "Epoch 00099: saving optimizer to D:/OneDrive/Major Project/HybridModel_37Classes/params/00010-test-train\\model-99-0.15.pkl\n",
      "3103/3103 [==============================] - 4086s 1s/step - loss: 0.1562 - accuracy: 0.3724 - val_loss: 0.1484 - val_accuracy: 0.2877 - lr: 2.2481e-22\n",
      "Epoch 100/100\n",
      "3103/3103 [==============================] - ETA: 0s - loss: 0.1562 - accuracy: 0.3712\n",
      "Epoch 100: saving model to D:/OneDrive/Major Project/HybridModel_37Classes/params/00010-test-train\\model-100-0.15.hdf5\n",
      "\n",
      "Epoch 00100: saving optimizer to D:/OneDrive/Major Project/HybridModel_37Classes/params/00010-test-train\\model-100-0.15.pkl\n",
      "3103/3103 [==============================] - 3817s 1s/step - loss: 0.1562 - accuracy: 0.3712 - val_loss: 0.1484 - val_accuracy: 0.2889 - lr: 1.6861e-22\n"
     ]
    }
   ],
   "source": [
    "def load_model_data(model_path, opt_path):\n",
    "    model = load_model(model_path)\n",
    "    with open(opt_path, 'rb') as fp:\n",
    "      d = pickle.load(fp)\n",
    "      epoch = d['epoch']\n",
    "      opt = d['opt']\n",
    "      return epoch, model, opt\n",
    "\n",
    "epoch, hybridModel, opt = load_model_data(MODEL_PATH, OPT_PATH)\n",
    "hybridModel.compile(optimizer=tf.keras.optimizers.Adam.from_config(opt), loss='mse', metrics=[\"accuracy\"])\n",
    "with Logger(os.path.join(run_dir, 'log.txt')):\n",
    "  train_model(hybridModel, initial_epoch=epoch, max_epochs=100)"
   ]
  }
 ],
 "metadata": {
  "interpreter": {
   "hash": "70a6570de30d82211b5f5e65965bb54ab4f6b593c4e887f9f81bac2e8b27837a"
  },
  "kernelspec": {
   "display_name": "Python 3.7.13 ('python37majorproject')",
   "language": "python",
   "name": "python3"
  },
  "language_info": {
   "codemirror_mode": {
    "name": "ipython",
    "version": 3
   },
   "file_extension": ".py",
   "mimetype": "text/x-python",
   "name": "python",
   "nbconvert_exporter": "python",
   "pygments_lexer": "ipython3",
   "version": "3.7.13"
  },
  "orig_nbformat": 4
 },
 "nbformat": 4,
 "nbformat_minor": 2
}

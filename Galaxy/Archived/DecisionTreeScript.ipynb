{
 "cells": [
  {
   "cell_type": "code",
   "execution_count": 1,
   "id": "c1f20ce0",
   "metadata": {},
   "outputs": [],
   "source": [
    "classes = [\n",
    "    'Class1.1', 'Class1.2', 'Class1.3', 'Class2.1', 'Class2.2', 'Class3.1',\n",
    "    'Class3.2', 'Class4.1', 'Class4.2', 'Class5.1', 'Class5.2', 'Class5.3',\n",
    "    'Class5.4', 'Class6.1', 'Class6.2', 'Class7.1', 'Class7.2', 'Class7.3',\n",
    "    'Class8.1', 'Class8.2', 'Class8.3', 'Class8.4', 'Class8.5', 'Class8.6',\n",
    "    'Class8.7', 'Class9.1', 'Class9.2', 'Class9.3', 'Class10.1', 'Class10.2',\n",
    "    'Class10.3', 'Class11.1', 'Class11.2', 'Class11.3', 'Class11.4',\n",
    "    'Class11.5', 'Class11.6'\n",
    "]"
   ]
  },
  {
   "cell_type": "code",
   "execution_count": 2,
   "id": "7e7e2113",
   "metadata": {},
   "outputs": [],
   "source": [
    "class_division = [3,2,2,2,4,2,3,7,3,3,6]"
   ]
  },
  {
   "cell_type": "code",
   "execution_count": 3,
   "id": "293a464a",
   "metadata": {},
   "outputs": [
    {
     "name": "stdout",
     "output_type": "stream",
     "text": [
      "37\n"
     ]
    }
   ],
   "source": [
    "print(sum(class_division))"
   ]
  },
  {
   "cell_type": "code",
   "execution_count": 9,
   "id": "133c90cc",
   "metadata": {},
   "outputs": [],
   "source": [
    "def classify(arr):\n",
    "    returnstring = \"\"\n",
    "    q6 = arr[13:15]\n",
    "    maxval = max(q6)\n",
    "    maxloc = q6.index(maxval)\n",
    "    if (maxloc==1):\n",
    "        q1 = arr[0:3]\n",
    "        maxval = max(q1)\n",
    "        maxloc = q1.index(maxval)\n",
    "        if(maxloc==2):\n",
    "            returnstring = \"Irregular\"\n",
    "        elif(maxloc==0):\n",
    "            q7 = arr[15:18]\n",
    "            maxval = max(q7)\n",
    "            maxloc = q7.index(maxval)\n",
    "            if(maxloc==0):\n",
    "                returnstring = \"E0\"\n",
    "            elif(maxloc==1):\n",
    "                returnstring = \"E5\"\n",
    "            else:\n",
    "                returnstring = \"E7\"\n",
    "        else:\n",
    "            q2 = arr[3:5]\n",
    "            maxval = max(q2)\n",
    "            maxloc = q2.index(maxval)\n",
    "            if(maxval==0):\n",
    "                q9 = arr[25:28]\n",
    "                maxval = max(q9)\n",
    "                maxloc = q9.index(maxval)\n",
    "                if(maxloc==0):\n",
    "                    returnstring = \"Sx\"\n",
    "                elif(maxloc==1):\n",
    "                    returnstring = \"SBx\"\n",
    "                else:\n",
    "                    returnstring = \"S0\"\n",
    "                \n",
    "            else:\n",
    "                q3 = arr[5:7]\n",
    "                maxval = max(q3)\n",
    "                maxloc = q3.index(maxval)\n",
    "                if(maxloc==1):\n",
    "                    q4 = arr[6:8]\n",
    "                    maxval = max(q4)\n",
    "                    maxloc = q4.index(maxval)\n",
    "                    if(maxloc==0):\n",
    "                        q10 = arr[28:31]\n",
    "                        maxval = max(q10)\n",
    "                        maxloc = q10.index(maxval)\n",
    "                        if(maxloc==2):\n",
    "                            returnstring = \"S0\"\n",
    "                        else:\n",
    "                            q11 = arr[31:]\n",
    "                            maxval = max(q11)\n",
    "                            maxloc = q11.index(maxval)\n",
    "                            if(maxloc==0):\n",
    "                                returnstring = \"SBx\"\n",
    "                            elif(maxloc==1):\n",
    "                                returnstring = \"SBx\"\n",
    "                            elif(maxloc==2):\n",
    "                                returnstring = \"SBx\"\n",
    "                            elif(maxloc==3):\n",
    "                                returnstring = \"SBx\"\n",
    "                            elif(maxloc==4):\n",
    "                                returnstring = \"SBx\"\n",
    "                            else:\n",
    "                                returnstring = \"SBx\"\n",
    "                    else:\n",
    "                        q5 = arr[9:13]\n",
    "                        maxval = max(q5)\n",
    "                        maxloc = q5.index(maxval)\n",
    "                        if(maxloc == 0):\n",
    "                            returnstring = \"E1\"\n",
    "                        elif(maxloc == 1):\n",
    "                            returnstring = \"E2\"\n",
    "                        elif(maxloc == 2):\n",
    "                            returnstring = \"E3\"\n",
    "                        elif(maxloc == 3):\n",
    "                            returnstring = \"E4\"\n",
    "                else:\n",
    "                    q4 = arr[6:8]\n",
    "                    maxval = max(q4)\n",
    "                    maxloc = q4.index(maxval)\n",
    "                    if(maxloc==0):\n",
    "                        q10 = arr[28:31]\n",
    "                        maxval = max(q10)\n",
    "                        maxloc = q10.index(maxval)\n",
    "                        if(maxloc==2):\n",
    "                            returnstring = \"S0\"\n",
    "                        else:\n",
    "                            q11 = arr[31:]\n",
    "                            maxval = max(q11)\n",
    "                            maxloc = q11.index(maxval)\n",
    "                            if(maxloc==0):\n",
    "                                returnstring = \"Sx\"\n",
    "                            elif(maxloc==1):\n",
    "                                returnstring = \"Sx\"\n",
    "                            elif(maxloc==2):\n",
    "                                returnstring = \"Sx\"\n",
    "                            elif(maxloc==3):\n",
    "                                returnstring = \"Sx\"\n",
    "                            elif(maxloc==4):\n",
    "                                returnstring = \"Sx\"\n",
    "                            else:\n",
    "                                returnstring = \"Sx\"\n",
    "                    else:\n",
    "                        q5 = arr[9:13]\n",
    "                        maxval = max(q5)\n",
    "                        maxloc = q5.index(maxval)\n",
    "                        if(maxloc == 0):\n",
    "                            returnstring = \"E1\"\n",
    "                        elif(maxloc == 1):\n",
    "                            returnstring = \"E2\"\n",
    "                        elif(maxloc == 2):\n",
    "                            returnstring = \"E3\"\n",
    "                        elif(maxloc == 3):\n",
    "                            returnstring = \"E4\"\n",
    "                     \n",
    "    else:\n",
    "        returnstring = \"Irregular\"\n",
    "    return returnstring"
   ]
  },
  {
   "cell_type": "code",
   "execution_count": 10,
   "id": "3bdf38e0",
   "metadata": {},
   "outputs": [],
   "source": [
    "arr = [2.3950830e-05, 4.8960963e-01, 2.8947727e-12, 5.7384488e-12,\n",
    "       2.1398950e-01, 3.3590138e-12, 2.0845260e-02, 2.6302585e-01,\n",
    "       6.3896907e-04, 2.9497715e-13, 2.4975511e-11, 3.3255963e-12,\n",
    "       2.5095546e-12, 5.1021591e-12, 5.2516568e-03, 3.3821058e-12,\n",
    "       3.9217859e-03, 2.0310106e-03, 5.0403037e-12, 3.9226061e-13,\n",
    "       9.0119963e-13, 2.1892356e-12, 4.5795078e-12, 1.5604396e-12,\n",
    "       6.1410933e-12, 6.6240289e-04, 2.3912790e-12, 7.2339886e-12,\n",
    "       6.9699814e-12, 4.2568462e-12, 7.2983600e-13, 4.7401137e-12,\n",
    "       1.0164457e-12, 1.6060995e-12, 3.6224120e-12, 4.2624684e-12,\n",
    "       3.0618427e-12]"
   ]
  },
  {
   "cell_type": "code",
   "execution_count": 11,
   "id": "8fb5eb44",
   "metadata": {},
   "outputs": [
    {
     "data": {
      "text/plain": [
       "'E2'"
      ]
     },
     "execution_count": 11,
     "metadata": {},
     "output_type": "execute_result"
    }
   ],
   "source": [
    "classify(arr)"
   ]
  },
  {
   "cell_type": "code",
   "execution_count": 7,
   "id": "6eca2837",
   "metadata": {},
   "outputs": [
    {
     "name": "stdout",
     "output_type": "stream",
     "text": [
      "S0\n"
     ]
    }
   ],
   "source": [
    "print(classify(arr))"
   ]
  },
  {
   "cell_type": "code",
   "execution_count": 8,
   "id": "396755fb",
   "metadata": {},
   "outputs": [],
   "source": [
    "arr = [1.4274031e-02, 9.7901762e-01, 4.1143298e-03, 8.9326799e-03,\n",
    "       9.6137309e-01, 4.2684698e-01, 5.5259460e-01, 9.4123375e-01,\n",
    "       2.4804175e-02, 1.0193929e-01, 5.7487273e-01, 2.0058504e-01,\n",
    "       4.3642491e-02, 2.0016301e-01, 8.0416125e-01, 1.4221370e-03,\n",
    "       1.3003081e-02, 7.1957707e-04, 1.1768907e-02, 7.1015954e-03,\n",
    "       6.7494422e-02, 6.7107379e-02, 3.3029795e-02, 4.0997922e-02,\n",
    "       2.0468235e-04, 8.9886487e-03, 8.7186694e-04, 2.4443269e-03,\n",
    "       1.0589573e-01, 4.2550060e-01, 3.5367763e-01, 2.2649884e-02,\n",
    "       8.3484709e-01, 4.5983166e-02, 4.8273802e-03, 1.2008548e-03,\n",
    "       2.3412824e-02]"
   ]
  },
  {
   "cell_type": "code",
   "execution_count": 9,
   "id": "b3027209",
   "metadata": {},
   "outputs": [
    {
     "name": "stdout",
     "output_type": "stream",
     "text": [
      "E2\n"
     ]
    }
   ],
   "source": [
    "print(classify(arr))"
   ]
  },
  {
   "cell_type": "code",
   "execution_count": null,
   "id": "a5da4b63",
   "metadata": {},
   "outputs": [],
   "source": []
  }
 ],
 "metadata": {
  "kernelspec": {
   "display_name": "Python 3 (ipykernel)",
   "language": "python",
   "name": "python3"
  },
  "language_info": {
   "codemirror_mode": {
    "name": "ipython",
    "version": 3
   },
   "file_extension": ".py",
   "mimetype": "text/x-python",
   "name": "python",
   "nbconvert_exporter": "python",
   "pygments_lexer": "ipython3",
   "version": "3.7.13"
  }
 },
 "nbformat": 4,
 "nbformat_minor": 5
}

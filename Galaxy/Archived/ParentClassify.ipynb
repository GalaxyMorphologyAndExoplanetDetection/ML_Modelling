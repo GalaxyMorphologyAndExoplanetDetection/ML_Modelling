{
 "cells": [
  {
   "cell_type": "code",
   "execution_count": 1,
   "id": "870e8e6c",
   "metadata": {},
   "outputs": [],
   "source": [
    "def main_class(classname):\n",
    "    spiral = ['Sa','Sb','Sc','S0','Sx']\n",
    "    barred = ['SBa','SBb','SBc','SBx']\n",
    "    elliptical = ['E0','E1','E2','E3','E4','E5','E6','E7']\n",
    "    if(classname in spiral):\n",
    "        return 'Spiral'\n",
    "    elif(classname in barred):\n",
    "        return 'Barred Spiral'\n",
    "    elif (classname in elliptical):\n",
    "        return 'Elliptical'\n",
    "    else:\n",
    "        return 'Irregular'"
   ]
  },
  {
   "cell_type": "code",
   "execution_count": 2,
   "id": "54d1d0e0",
   "metadata": {},
   "outputs": [
    {
     "data": {
      "text/plain": [
       "'Spiral'"
      ]
     },
     "execution_count": 2,
     "metadata": {},
     "output_type": "execute_result"
    }
   ],
   "source": [
    "main_class('Sa')"
   ]
  },
  {
   "cell_type": "code",
   "execution_count": 3,
   "id": "7b697712",
   "metadata": {},
   "outputs": [],
   "source": [
    "#Use this function to classify the galaxies into their parent types"
   ]
  },
  {
   "cell_type": "code",
   "execution_count": null,
   "id": "bbef13c0",
   "metadata": {},
   "outputs": [],
   "source": []
  }
 ],
 "metadata": {
  "kernelspec": {
   "display_name": "Python 3 (ipykernel)",
   "language": "python",
   "name": "python3"
  },
  "language_info": {
   "codemirror_mode": {
    "name": "ipython",
    "version": 3
   },
   "file_extension": ".py",
   "mimetype": "text/x-python",
   "name": "python",
   "nbconvert_exporter": "python",
   "pygments_lexer": "ipython3",
   "version": "3.9.7"
  }
 },
 "nbformat": 4,
 "nbformat_minor": 5
}

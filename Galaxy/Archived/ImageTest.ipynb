{
 "cells": [
  {
   "cell_type": "code",
   "execution_count": 11,
   "id": "4b98b661",
   "metadata": {},
   "outputs": [],
   "source": [
    "from keras.models import load_model\n",
    "\n",
    "model = load_model('D:/OneDrive/Major Project/HybridModel_37Classes/params/00006-test-train/model-29-0.15.hdf5')"
   ]
  },
  {
   "cell_type": "code",
   "execution_count": 12,
   "id": "90f03645",
   "metadata": {},
   "outputs": [
    {
     "name": "stdout",
     "output_type": "stream",
     "text": [
      "Found 1 images belonging to 1 classes.\n"
     ]
    }
   ],
   "source": [
    "from keras.preprocessing.image import ImageDataGenerator\n",
    "\n",
    "test_datagenerator = ImageDataGenerator(rescale=1/255)\n",
    "\n",
    "test_generator = test_datagenerator.flow_from_directory(\n",
    "    directory=\"../Data/GalaxyZoo1/test1/\",\n",
    "    classes=['images_test_rev1'],\n",
    "    class_mode=None,\n",
    "    color_mode=\"rgb\",\n",
    "    batch_size=1,\n",
    "    target_size=(299, 299),\n",
    "    seed=123,\n",
    "    shuffle=False)"
   ]
  },
  {
   "cell_type": "code",
   "execution_count": 13,
   "id": "1d6dfa50",
   "metadata": {},
   "outputs": [
    {
     "name": "stdout",
     "output_type": "stream",
     "text": [
      "1/1 [==============================] - 6s 6s/step\n"
     ]
    }
   ],
   "source": [
    "predictions = model.predict(\n",
    "    test_generator,\n",
    "    steps=test_generator.n/test_generator.batch_size,\n",
    "    verbose=1)"
   ]
  },
  {
   "cell_type": "code",
   "execution_count": 14,
   "id": "535bf01c",
   "metadata": {},
   "outputs": [
    {
     "data": {
      "text/plain": [
       "array([[2.3950830e-05, 4.8960963e-01, 2.8947727e-12, 5.7384488e-12,\n",
       "        2.1398950e-01, 3.3590138e-12, 2.0845260e-02, 2.6302585e-01,\n",
       "        6.3896907e-04, 2.9497715e-13, 2.4975511e-11, 3.3255963e-12,\n",
       "        2.5095546e-12, 5.1021591e-12, 5.2516568e-03, 3.3821058e-12,\n",
       "        3.9217859e-03, 2.0310106e-03, 5.0403037e-12, 3.9226061e-13,\n",
       "        9.0119963e-13, 2.1892356e-12, 4.5795078e-12, 1.5604396e-12,\n",
       "        6.1410933e-12, 6.6240289e-04, 2.3912790e-12, 7.2339886e-12,\n",
       "        6.9699814e-12, 4.2568462e-12, 7.2983600e-13, 4.7401137e-12,\n",
       "        1.0164457e-12, 1.6060995e-12, 3.6224120e-12, 4.2624684e-12,\n",
       "        3.0618427e-12]], dtype=float32)"
      ]
     },
     "execution_count": 14,
     "metadata": {},
     "output_type": "execute_result"
    }
   ],
   "source": [
    "predictions"
   ]
  },
  {
   "cell_type": "code",
   "execution_count": 15,
   "id": "0918fe3a",
   "metadata": {},
   "outputs": [],
   "source": [
    "prediciton = predictions.flatten()"
   ]
  },
  {
   "cell_type": "code",
   "execution_count": 16,
   "id": "09c817ba",
   "metadata": {},
   "outputs": [
    {
     "data": {
      "text/plain": [
       "array([2.3950830e-05, 4.8960963e-01, 2.8947727e-12, 5.7384488e-12,\n",
       "       2.1398950e-01, 3.3590138e-12, 2.0845260e-02, 2.6302585e-01,\n",
       "       6.3896907e-04, 2.9497715e-13, 2.4975511e-11, 3.3255963e-12,\n",
       "       2.5095546e-12, 5.1021591e-12, 5.2516568e-03, 3.3821058e-12,\n",
       "       3.9217859e-03, 2.0310106e-03, 5.0403037e-12, 3.9226061e-13,\n",
       "       9.0119963e-13, 2.1892356e-12, 4.5795078e-12, 1.5604396e-12,\n",
       "       6.1410933e-12, 6.6240289e-04, 2.3912790e-12, 7.2339886e-12,\n",
       "       6.9699814e-12, 4.2568462e-12, 7.2983600e-13, 4.7401137e-12,\n",
       "       1.0164457e-12, 1.6060995e-12, 3.6224120e-12, 4.2624684e-12,\n",
       "       3.0618427e-12], dtype=float32)"
      ]
     },
     "execution_count": 16,
     "metadata": {},
     "output_type": "execute_result"
    }
   ],
   "source": [
    "prediciton"
   ]
  },
  {
   "cell_type": "code",
   "execution_count": 7,
   "id": "e2bcee24",
   "metadata": {},
   "outputs": [],
   "source": [
    "import numpy as np"
   ]
  },
  {
   "cell_type": "code",
   "execution_count": 8,
   "id": "bbe59204",
   "metadata": {},
   "outputs": [
    {
     "name": "stdout",
     "output_type": "stream",
     "text": [
      "(array([14], dtype=int64),)\n"
     ]
    }
   ],
   "source": [
    "print(np.where(prediciton==max(prediciton)))"
   ]
  },
  {
   "cell_type": "code",
   "execution_count": 9,
   "id": "c28ddc76",
   "metadata": {},
   "outputs": [],
   "source": [
    "classes = [\n",
    "    'Class1.1', 'Class1.2', 'Class1.3', 'Class2.1', 'Class2.2', 'Class3.1',\n",
    "    'Class3.2', 'Class4.1', 'Class4.2', 'Class5.1', 'Class5.2', 'Class5.3',\n",
    "    'Class5.4', 'Class6.1', 'Class6.2', 'Class7.1', 'Class7.2', 'Class7.3',\n",
    "    'Class8.1', 'Class8.2', 'Class8.3', 'Class8.4', 'Class8.5', 'Class8.6',\n",
    "    'Class8.7', 'Class9.1', 'Class9.2', 'Class9.3', 'Class10.1', 'Class10.2',\n",
    "    'Class10.3', 'Class11.1', 'Class11.2', 'Class11.3', 'Class11.4',\n",
    "    'Class11.5', 'Class11.6'\n",
    "]"
   ]
  },
  {
   "cell_type": "code",
   "execution_count": null,
   "id": "294415c4",
   "metadata": {},
   "outputs": [],
   "source": []
  },
  {
   "cell_type": "code",
   "execution_count": null,
   "id": "b1ef127f",
   "metadata": {},
   "outputs": [],
   "source": []
  }
 ],
 "metadata": {
  "kernelspec": {
   "display_name": "Python 3 (ipykernel)",
   "language": "python",
   "name": "python3"
  },
  "language_info": {
   "codemirror_mode": {
    "name": "ipython",
    "version": 3
   },
   "file_extension": ".py",
   "mimetype": "text/x-python",
   "name": "python",
   "nbconvert_exporter": "python",
   "pygments_lexer": "ipython3",
   "version": "3.7.13"
  }
 },
 "nbformat": 4,
 "nbformat_minor": 5
}

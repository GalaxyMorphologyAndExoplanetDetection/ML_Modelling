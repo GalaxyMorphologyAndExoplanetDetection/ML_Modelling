{
 "cells": [
  {
   "cell_type": "markdown",
   "metadata": {
    "id": "GHzTnWI4HbFh"
   },
   "source": [
    "# **Importing Libraries**"
   ]
  },
  {
   "cell_type": "code",
   "execution_count": 1,
   "metadata": {
    "executionInfo": {
     "elapsed": 17755,
     "status": "ok",
     "timestamp": 1649171938906,
     "user": {
      "displayName": "Major Project",
      "userId": "08688060530881520273"
     },
     "user_tz": -330
    },
    "id": "B1ZS2t72HfaN"
   },
   "outputs": [],
   "source": [
    "%matplotlib inline\n",
    "import os\n",
    "import matplotlib.pyplot as plt\n",
    "import pandas as pd\n",
    "import numpy as np\n",
    "import random\n",
    "from importlib import reload\n",
    "from tensorflow import keras\n",
    "from keras.preprocessing.image import ImageDataGenerator\n",
    "from keras.applications.resnet import ResNet50\n",
    "from keras.layers import Flatten\n",
    "from keras.layers import Dense\n",
    "from keras.layers import Input\n",
    "from keras.models import Model\n",
    "from keras import backend as K\n",
    "import tensorflow as tf\n",
    "import glob\n",
    "from shutil import copyfile\n",
    "from keras.models import load_model\n",
    "from keras import optimizers"
   ]
  },
  {
   "cell_type": "markdown",
   "metadata": {
    "id": "fI0whP4XI0b5"
   },
   "source": [
    "## **Load the Resnet50 model from keras**"
   ]
  },
  {
   "cell_type": "code",
   "execution_count": null,
   "metadata": {
    "executionInfo": {
     "elapsed": 7332,
     "status": "ok",
     "timestamp": 1649171955459,
     "user": {
      "displayName": "Major Project",
      "userId": "08688060530881520273"
     },
     "user_tz": -330
    },
    "id": "glv0yz69IksI"
   },
   "outputs": [],
   "source": [
    "img_shape = (224, 224, 3)\n",
    "resnet_model = ResNet50(include_top=False, input_shape=img_shape, weights='imagenet') #Exclude the top Layer by adding include_top=False"
   ]
  },
  {
   "cell_type": "code",
   "execution_count": null,
   "metadata": {
    "executionInfo": {
     "elapsed": 4,
     "status": "ok",
     "timestamp": 1649171957021,
     "user": {
      "displayName": "Major Project",
      "userId": "08688060530881520273"
     },
     "user_tz": -330
    },
    "id": "mlxFaoLrJcJW"
   },
   "outputs": [],
   "source": [
    "resnet_model.trainable=False"
   ]
  },
  {
   "cell_type": "markdown",
   "metadata": {
    "id": "atlGm_eLJSxD"
   },
   "source": [
    "## **Load the images and Preprocess the images**"
   ]
  },
  {
   "cell_type": "code",
   "execution_count": null,
   "metadata": {
    "colab": {
     "base_uri": "https://localhost:8080/"
    },
    "executionInfo": {
     "elapsed": 242117,
     "status": "ok",
     "timestamp": 1649172203496,
     "user": {
      "displayName": "Major Project",
      "userId": "08688060530881520273"
     },
     "user_tz": -330
    },
    "id": "8_1YCwCPcI08",
    "outputId": "72d22d73-2dcd-4be1-a3e0-f7feb1358208"
   },
   "outputs": [],
   "source": [
    "classes = [\n",
    "    'Class1.1', 'Class1.2', 'Class1.3', 'Class2.1', 'Class2.2', 'Class3.1',\n",
    "    'Class3.2', 'Class4.1', 'Class4.2', 'Class5.1', 'Class5.2', 'Class5.3',\n",
    "    'Class5.4', 'Class6.1', 'Class6.2', 'Class7.1', 'Class7.2', 'Class7.3',\n",
    "    'Class8.1', 'Class8.2', 'Class8.3', 'Class8.4', 'Class8.5', 'Class8.6',\n",
    "    'Class8.7', 'Class9.1', 'Class9.2', 'Class9.3', 'Class10.1', 'Class10.2',\n",
    "    'Class10.3', 'Class11.1', 'Class11.2', 'Class11.3', 'Class11.4',\n",
    "    'Class11.5', 'Class11.6'\n",
    "] #37 vectors of Galaxy Zoo divided into 11 classes based on the 11 different questions and their responses\n",
    "\n",
    "\n",
    "def append_ext(fn):\n",
    "    '''\n",
    "    This function is used to take the GalaxyID from the CSV and append .jpg to it in order to denote the image names. \n",
    "    '''\n",
    "    return fn + \".jpg\"\n",
    "\n",
    "\n",
    "traindf = pd.read_csv('/content/drive/MyDrive/Major Project/Galaxy_Morphology/Data/GalaxyZoo1/train/training_solutions_rev1.csv') #Read the Data Frame using pandas\n",
    "\n",
    "traindf[\"id\"] = traindf['GalaxyID'].astype(str).apply(append_ext) #Create a new column in the Data Frame called 'id' which has the image names.\n",
    "\n",
    "def convert_rgb_to_grayscale(image):\n",
    "    return tf.image.rgb_to_grayscale(image)\n",
    "\n",
    "datagenerator = ImageDataGenerator(\n",
    "    fill_mode='nearest',\n",
    "    cval=0,\n",
    "    rescale=1/255,\n",
    "    preprocessing_function=convert_rgb_to_grayscale,\n",
    "    rotation_range=90,\n",
    "    width_shift_range=0.1,\n",
    "    height_shift_range=0.1,\n",
    "    horizontal_flip=True,\n",
    "    vertical_flip=True,\n",
    "    validation_split=0.02)\n",
    "\n",
    "train_generator = datagenerator.flow_from_dataframe(\n",
    "    dataframe=traindf,\n",
    "    directory=\"/content/drive/MyDrive/Major Project/Galaxy_Morphology/Data/GalaxyZoo1/train/images_training_rev1/\",\n",
    "    x_col=\"id\",\n",
    "    y_col=classes,\n",
    "    subset=\"training\",\n",
    "    batch_size=16,\n",
    "    seed=123,\n",
    "    shuffle=True,\n",
    "    class_mode=\"raw\",\n",
    "    target_size=(224, 224))\n",
    "\n",
    "validation_generator = datagenerator.flow_from_dataframe(\n",
    "    dataframe=traindf,\n",
    "    directory=\"/content/drive/MyDrive/Major Project/Galaxy_Morphology/Data/GalaxyZoo1/train/images_training_rev1/\",\n",
    "    x_col=\"id\",\n",
    "    y_col=classes,\n",
    "    subset=\"validation\",\n",
    "    batch_size=16,\n",
    "    seed=123,\n",
    "    shuffle=True,\n",
    "    class_mode=\"raw\",\n",
    "    target_size=(224, 224))\n",
    "\n",
    "STEP_SIZE_TRAIN = train_generator.n // train_generator.batch_size\n",
    "STEP_SIZE_VALID = validation_generator.n // validation_generator.batch_size"
   ]
  },
  {
   "cell_type": "code",
   "execution_count": null,
   "metadata": {
    "executionInfo": {
     "elapsed": 696,
     "status": "ok",
     "timestamp": 1649172253593,
     "user": {
      "displayName": "Major Project",
      "userId": "08688060530881520273"
     },
     "user_tz": -330
    },
    "id": "odAGCdSJ2UJl"
   },
   "outputs": [],
   "source": [
    "# Flatten output of last layer before adding output layer (Dense layer)\n",
    "x = Flatten()(resnet_model.output)\n",
    "\n",
    "# Add output layer (number of outputs = 37)\n",
    "x = Dense(len(classes), activation='softmax')(x)\n",
    "\n",
    "# Load the modified model\n",
    "model = Model(inputs=resnet_model.input, outputs=x)"
   ]
  },
  {
   "cell_type": "code",
   "execution_count": null,
   "metadata": {
    "colab": {
     "base_uri": "https://localhost:8080/"
    },
    "executionInfo": {
     "elapsed": 3070,
     "status": "ok",
     "timestamp": 1649172259933,
     "user": {
      "displayName": "Major Project",
      "userId": "08688060530881520273"
     },
     "user_tz": -330
    },
    "id": "CPfCf5yg2X4T",
    "outputId": "fae9f177-c601-48a0-fefb-3d49189ef9ce",
    "scrolled": false
   },
   "outputs": [],
   "source": [
    "print(model.summary())"
   ]
  },
  {
   "cell_type": "code",
   "execution_count": null,
   "metadata": {
    "executionInfo": {
     "elapsed": 5,
     "status": "ok",
     "timestamp": 1649172262544,
     "user": {
      "displayName": "Major Project",
      "userId": "08688060530881520273"
     },
     "user_tz": -330
    },
    "id": "hs0IK8A32dgN"
   },
   "outputs": [],
   "source": [
    "for layer in model.layers:\n",
    "    layer.trainable = True\n",
    "\n",
    "optimizer = keras.optimizers.Adam(learning_rate=0.001, decay=5e-4)\n",
    "\n",
    "model.compile(optimizer, loss='mse', metrics=[\"accuracy\"])"
   ]
  },
  {
   "cell_type": "code",
   "execution_count": null,
   "metadata": {
    "executionInfo": {
     "elapsed": 636,
     "status": "ok",
     "timestamp": 1649172266573,
     "user": {
      "displayName": "Major Project",
      "userId": "08688060530881520273"
     },
     "user_tz": -330
    },
    "id": "YWb1wkq32v2K"
   },
   "outputs": [],
   "source": [
    "from keras.callbacks import Callback\n",
    "from keras.callbacks import ModelCheckpoint, Callback, EarlyStopping\n",
    "\n",
    "\n",
    "class LossHistory(Callback):\n",
    "    def on_train_begin(self, logs={}):\n",
    "        self.losses = []\n",
    "        self.val_losses = []\n",
    "\n",
    "    def on_batch_end(self, batch, logs={}):\n",
    "        self.losses.append(logs.get('loss'))\n",
    "        self.val_losses.append(logs.get('val_loss'))\n",
    "\n",
    "\n",
    "early_stopping = EarlyStopping(\n",
    "    monitor='val_loss', patience=4, verbose=1, mode='auto')\n",
    "\n",
    "history = LossHistory()\n",
    "\n",
    "from keras.callbacks import ModelCheckpoint\n",
    "checkpointer = ModelCheckpoint(\n",
    "    filepath='/content/drive/MyDrive/Major Project/Galaxy_Morphology/GalaxyZoo1/Weights/weights.hdf5', verbose=2, save_best_only=True)"
   ]
  },
  {
   "cell_type": "code",
   "execution_count": null,
   "metadata": {
    "colab": {
     "base_uri": "https://localhost:8080/"
    },
    "id": "FSZK1BqX3C4N",
    "outputId": "c2f8c8c2-c234-407b-bb6f-a57a0f62f085",
    "scrolled": false
   },
   "outputs": [],
   "source": [
    "hist = model.fit(\n",
    "    train_generator,\n",
    "    steps_per_epoch=STEP_SIZE_TRAIN,\n",
    "    validation_data=validation_generator,\n",
    "    validation_steps=STEP_SIZE_VALID,\n",
    "    epochs=30,\n",
    "    callbacks=[history, checkpointer, early_stopping])"
   ]
  },
  {
   "cell_type": "code",
   "execution_count": null,
   "metadata": {
    "id": "59dkWJTMBYIy"
   },
   "outputs": [],
   "source": [
    "plt.figure(figsize=(12, 8))\n",
    "plt.plot(hist.epoch, hist.history['loss'], label='Training Loss')\n",
    "plt.plot(\n",
    "    hist.epoch, hist.history['val_loss'], label='Validation', linestyle='--')\n",
    "plt.xlabel(\"Epochs\")\n",
    "plt.ylabel(\"RMSE\")\n",
    "plt.legend()\n",
    "plt.show()"
   ]
  },
  {
   "cell_type": "code",
   "execution_count": null,
   "metadata": {
    "id": "I1lY3v5LBY2A"
   },
   "outputs": [],
   "source": [
    "from keras.models import load_model\n",
    "\n",
    "model = load_model('/content/drive/MyDrive/Major Project/Galaxy_Morphology/GalaxyZoo1/Weights/weights.hdf5')"
   ]
  },
  {
   "cell_type": "code",
   "execution_count": null,
   "metadata": {
    "id": "nEKiufP7bPmw"
   },
   "outputs": [],
   "source": [
    "def convert_rgb_to_grayscale(image):\n",
    "    return tf.image.rgb_to_grayscale(image)\n",
    "\n",
    "test_datagenerator = ImageDataGenerator(\n",
    "    rescale=1/255,\n",
    "    preprocessing_function=convert_rgb_to_grayscale)\n",
    "\n",
    "test_generator = test_datagenerator.flow_from_directory(\n",
    "    directory=\"/content/drive/MyDrive/Major Project/Galaxy_Morphology//Data/GalaxyZoo1/test/\",\n",
    "    classes=['images_test_rev1'],\n",
    "    class_mode=None,\n",
    "    color_mode=\"rgb\",\n",
    "    batch_size=1,\n",
    "    target_size=(224, 224),\n",
    "    seed=123,\n",
    "    shuffle=False)"
   ]
  },
  {
   "cell_type": "code",
   "execution_count": null,
   "metadata": {
    "id": "W-Np429SB4OQ"
   },
   "outputs": [],
   "source": [
    "predictions = model.predict(\n",
    "    test_generator,\n",
    "    steps=test_generator.n/test_generator.batch_size,\n",
    "    verbose=1)\n",
    "\n",
    "print(predictions.shape)"
   ]
  }
 ],
 "metadata": {
  "accelerator": "GPU",
  "colab": {
   "collapsed_sections": [],
   "name": "Copy of TransferLearning.ipynb",
   "provenance": []
  },
  "kernelspec": {
   "display_name": "Python 3 (ipykernel)",
   "language": "python",
   "name": "python3"
  },
  "language_info": {
   "codemirror_mode": {
    "name": "ipython",
    "version": 3
   },
   "file_extension": ".py",
   "mimetype": "text/x-python",
   "name": "python",
   "nbconvert_exporter": "python",
   "pygments_lexer": "ipython3",
   "version": "3.9.7"
  }
 },
 "nbformat": 4,
 "nbformat_minor": 1
}

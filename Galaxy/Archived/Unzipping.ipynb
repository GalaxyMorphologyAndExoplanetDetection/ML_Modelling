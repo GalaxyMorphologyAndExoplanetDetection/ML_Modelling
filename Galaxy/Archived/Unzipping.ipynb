{
 "cells": [
  {
   "cell_type": "code",
   "execution_count": 1,
   "metadata": {
    "id": "g_8SPsYGqA9h"
   },
   "outputs": [],
   "source": [
    "import zipfile\n",
    "\n",
    "zipFilesTrain = ['images_training_rev1', 'training_solutions_rev1']\n",
    "zipFileTest = ['images_test_rev1']\n",
    "labels = ['all_ones_benchmark', 'all_zeros_benchmark', 'central_pixel_benchmark']\n",
    "for train in zipFilesTrain:\n",
    "    with zipfile.ZipFile('../Data/GalaxyZoo1/' + train + '.zip', 'r') as zip_ref:\n",
    "        zip_ref.extractall('../Data/GalaxyZoo1/train')\n",
    "for test in zipFileTest:\n",
    "    with zipfile.ZipFile('../Data/GalaxyZoo1/' + test + '.zip', 'r') as zip_ref:\n",
    "        zip_ref.extractall('../Data/GalaxyZoo1/test')\n",
    "for label in labels:\n",
    "    with zipfile.ZipFile('../Data/GalaxyZoo1/' + label + '.zip', 'r') as zip_ref:\n",
    "        zip_ref.extractall('../Data/GalaxyZoo1/labels')"
   ]
  },
  {
   "cell_type": "code",
   "execution_count": 2,
   "metadata": {
    "id": "lD2TVZO6P_LA"
   },
   "outputs": [],
   "source": [
    "with zipfile.ZipFile('../Data/GalaxyZoo2/galaxy-zoo-2-images.zip', 'r') as zip_ref:\n",
    "    zip_ref.extractall('../Data/GalaxyZoo2')"
   ]
  }
 ],
 "metadata": {
  "colab": {
   "name": "Untitled",
   "provenance": []
  },
  "kernelspec": {
   "display_name": "Python 3 (ipykernel)",
   "language": "python",
   "name": "python3"
  },
  "language_info": {
   "codemirror_mode": {
    "name": "ipython",
    "version": 3
   },
   "file_extension": ".py",
   "mimetype": "text/x-python",
   "name": "python",
   "nbconvert_exporter": "python",
   "pygments_lexer": "ipython3",
   "version": "3.9.6"
  }
 },
 "nbformat": 4,
 "nbformat_minor": 1
}

{
 "cells": [
  {
   "cell_type": "code",
   "execution_count": null,
   "metadata": {
    "colab": {
     "base_uri": "https://localhost:8080/"
    },
    "executionInfo": {
     "elapsed": 10131,
     "status": "ok",
     "timestamp": 1649141247677,
     "user": {
      "displayName": "Major Project",
      "userId": "08688060530881520273"
     },
     "user_tz": -330
    },
    "id": "SrwPIGuYehUL",
    "outputId": "9322301d-523f-490e-f499-29ef21a86652"
   },
   "outputs": [],
   "source": [
    "from google.colab import drive\n",
    "drive.mount('/content/drive')"
   ]
  },
  {
   "cell_type": "code",
   "execution_count": null,
   "metadata": {
    "executionInfo": {
     "elapsed": 8097,
     "status": "ok",
     "timestamp": 1649144805176,
     "user": {
      "displayName": "Major Project",
      "userId": "08688060530881520273"
     },
     "user_tz": -330
    },
    "id": "bmeZRlZnkXm_"
   },
   "outputs": [],
   "source": [
    "%matplotlib inline\n",
    "import os\n",
    "import matplotlib.pyplot as plt\n",
    "import pandas as pd\n",
    "import numpy as np\n",
    "import random\n",
    "from importlib import reload\n",
    "from tensorflow import keras\n",
    "from keras.preprocessing.image import ImageDataGenerator\n",
    "from keras.layers import Flatten\n",
    "from keras.layers import Dense\n",
    "from keras.layers import Input\n",
    "from keras.models import Model\n",
    "from keras import backend as K\n",
    "import tensorflow as tf\n",
    "import glob\n",
    "from shutil import copyfile\n",
    "from keras.models import load_model\n",
    "from keras import optimizers\n",
    "from keras.applications.resnet import ResNet50\n"
   ]
  },
  {
   "cell_type": "code",
   "execution_count": null,
   "metadata": {
    "colab": {
     "base_uri": "https://localhost:8080/"
    },
    "executionInfo": {
     "elapsed": 4386,
     "status": "ok",
     "timestamp": 1649094138324,
     "user": {
      "displayName": "Major Project",
      "userId": "08688060530881520273"
     },
     "user_tz": -330
    },
    "id": "61KXut-Qkc50",
    "outputId": "c296be9f-165c-4a1f-d450-76e6369beefd"
   },
   "outputs": [],
   "source": [
    "# img_shape = (224, 224, 3)\n",
    "# model = load_model('/content/drive/MyDrive/Major Project/weights.hdf5')\n",
    "# model"
   ]
  },
  {
   "cell_type": "code",
   "execution_count": null,
   "metadata": {
    "colab": {
     "base_uri": "https://localhost:8080/",
     "height": 380
    },
    "executionInfo": {
     "elapsed": 623,
     "status": "error",
     "timestamp": 1649144903063,
     "user": {
      "displayName": "Major Project",
      "userId": "08688060530881520273"
     },
     "user_tz": -330
    },
    "id": "yrU-p-QxnrgX",
    "outputId": "703f5653-653f-4a8a-cdeb-cf947425f1f3"
   },
   "outputs": [],
   "source": [
    "classes = [\n",
    "    'Class1.1', 'Class1.2', 'Class1.3', 'Class2.1', 'Class2.2', 'Class3.1',\n",
    "    'Class3.2', 'Class4.1', 'Class4.2', 'Class5.1', 'Class5.2', 'Class5.3',\n",
    "    'Class5.4', 'Class6.1', 'Class6.2', 'Class7.1', 'Class7.2', 'Class7.3',\n",
    "    'Class8.1', 'Class8.2', 'Class8.3', 'Class8.4', 'Class8.5', 'Class8.6',\n",
    "    'Class8.7', 'Class9.1', 'Class9.2', 'Class9.3', 'Class10.1', 'Class10.2',\n",
    "    'Class10.3', 'Class11.1', 'Class11.2', 'Class11.3', 'Class11.4',\n",
    "    'Class11.5', 'Class11.6'\n",
    "] #37 vectors of Galaxy Zoo divided into 11 classes based on the 11 different questions and their responses\n",
    "\n",
    "\n",
    "def append_ext(fn):\n",
    "    '''\n",
    "    This function is used to take the GalaxyID from the CSV and append .jpg to it in order to denote the image names. \n",
    "    '''\n",
    "    return fn + \".jpg\"\n",
    "\n",
    "\n",
    "traindf = pd.read_csv(os.path.join('/media/sandesh/DATA/ENGINEERING/Major Project/Data/galaxyZoo-1/galaxy-zoo-1/train', 'training_solutions_rev1.csv')) #Read the Data Frame using pandas\n",
    "\n",
    "traindf[\"id\"] = traindf['GalaxyID'].astype(str).apply(append_ext) #Create a new column in the Data Frame called 'id' which has the image names.\n",
    "\n",
    "datagenerator = ImageDataGenerator(\n",
    "    fill_mode='nearest',\n",
    "    cval=0,\n",
    "    rescale=1/255,\n",
    "    rotation_range=90,\n",
    "    width_shift_range=0.1,\n",
    "    height_shift_range=0.1,\n",
    "    horizontal_flip=True,\n",
    "    vertical_flip=True,\n",
    "    validation_split=0.02)\n",
    "\n",
    "train_generator = datagenerator.flow_from_dataframe(\n",
    "    dataframe=traindf,\n",
    "    directory=os.path(\"/media/sandesh/DATA/ENGINEERING/Major Project/Data/galaxyZoo-1/galaxy-zoo-1/train/images_training_rev1\"),\n",
    "    x_col=\"id\",\n",
    "    y_col=classes,\n",
    "    subset=\"training\",\n",
    "    batch_size=16,\n",
    "    seed=123,\n",
    "    shuffle=True,\n",
    "    class_mode=\"raw\",\n",
    "    target_size=(224, 224))\n",
    "\n",
    "validation_generator = datagenerator.flow_from_dataframe(\n",
    "    dataframe=traindf,\n",
    "    directory=\"/media/sandesh/DATA/ENGINEERING/Major Project/Data/galaxyZoo-1/galaxy-zoo-1/train/images_training_rev1\",\n",
    "    x_col=\"id\",\n",
    "    y_col=classes,\n",
    "    subset=\"validation\",\n",
    "    batch_size=16,\n",
    "    seed=123,\n",
    "    shuffle=True,\n",
    "    class_mode=\"raw\",\n",
    "    target_size=(224, 224))\n",
    "\n",
    "STEP_SIZE_TRAIN = train_generator.n // train_generator.batch_size\n",
    "STEP_SIZE_VALID = validation_generator.n // validation_generator.batch_size"
   ]
  },
  {
   "cell_type": "code",
   "execution_count": null,
   "metadata": {
    "colab": {
     "base_uri": "https://localhost:8080/"
    },
    "executionInfo": {
     "elapsed": 4633,
     "status": "ok",
     "timestamp": 1649141316184,
     "user": {
      "displayName": "Major Project",
      "userId": "08688060530881520273"
     },
     "user_tz": -330
    },
    "id": "0CiVvdsrldmu",
    "outputId": "78b0c976-24b2-45f2-e07f-22a80574ad4b"
   },
   "outputs": [],
   "source": [
    "img_shape = (224, 224, 3)\n",
    "resnet_model = ResNet50(include_top=False, input_shape=img_shape) #Exclude the top Layer by adding include_top=False"
   ]
  },
  {
   "cell_type": "code",
   "execution_count": null,
   "metadata": {
    "id": "g1kjD_Xaf_Yk"
   },
   "outputs": [],
   "source": [
    "for layer in resnet_model.layers:\n",
    "    layer.trainable=False"
   ]
  },
  {
   "cell_type": "code",
   "execution_count": null,
   "metadata": {
    "id": "sl47DUhim6Mx"
   },
   "outputs": [],
   "source": [
    "# # Flatten output of last layer before adding output layer (Dense layer)\n",
    "x = Flatten()(resnet_model.output)\n",
    "\n",
    "# Add output layer (number of outputs = 37)\n",
    "x = Dense(len(classes), activation='sigmoid')(x)\n",
    "\n",
    "# Load the modified model\n",
    "model = Model(inputs=resnet_model.input, outputs=x)"
   ]
  },
  {
   "cell_type": "code",
   "execution_count": null,
   "metadata": {
    "colab": {
     "base_uri": "https://localhost:8080/"
    },
    "executionInfo": {
     "elapsed": 2102,
     "status": "ok",
     "timestamp": 1649094300963,
     "user": {
      "displayName": "Major Project",
      "userId": "08688060530881520273"
     },
     "user_tz": -330
    },
    "id": "ZoLTwqW5rGG9",
    "outputId": "42904cc8-9e53-4297-ce10-07a82c981ee9"
   },
   "outputs": [],
   "source": [
    "print(model.summary())"
   ]
  },
  {
   "cell_type": "code",
   "execution_count": null,
   "metadata": {
    "id": "RJHn-JxFrShG"
   },
   "outputs": [],
   "source": [
    "for layer in model.layers:\n",
    "    layer.trainable = True\n",
    "\n",
    "optimizer = keras.optimizers.Adam(learning_rate=0.001, decay=5e-4)\n",
    "\n",
    "model.compile(optimizer, loss='mse', metrics=[\"accuracy\"])"
   ]
  },
  {
   "cell_type": "code",
   "execution_count": null,
   "metadata": {
    "id": "wL_p41fYrTnP"
   },
   "outputs": [],
   "source": [
    "from keras.callbacks import Callback\n",
    "from keras.callbacks import ModelCheckpoint, Callback, EarlyStopping\n",
    "\n",
    "\n",
    "class LossHistory(Callback):\n",
    "    def on_train_begin(self, logs={}):\n",
    "        self.losses = []\n",
    "        self.val_losses = []\n",
    "\n",
    "    def on_batch_end(self, batch, logs={}):\n",
    "        self.losses.append(logs.get('loss'))\n",
    "        self.val_losses.append(logs.get('val_loss'))\n",
    "\n",
    "\n",
    "early_stopping = EarlyStopping(\n",
    "    monitor='val_loss', patience=4, verbose=1, mode='auto')\n",
    "\n",
    "history = LossHistory()\n",
    "\n",
    "from keras.callbacks import ModelCheckpoint\n",
    "checkpointer = ModelCheckpoint(\n",
    "    filepath='./content/drive/MyDrive/Major Project/Galaxy_Morphology/Data/Galaxy_Zoo-2/model/IL_Weights.hdf5', verbose=2, save_best_only=True)"
   ]
  },
  {
   "cell_type": "code",
   "execution_count": null,
   "metadata": {
    "colab": {
     "base_uri": "https://localhost:8080/"
    },
    "id": "RSn3SLMMroE5",
    "outputId": "5765f6cf-87a8-4d29-99c1-a914d0faad2d"
   },
   "outputs": [],
   "source": [
    "hist = model.fit(\n",
    "    train_generator,\n",
    "    steps_per_epoch=STEP_SIZE_TRAIN,\n",
    "    validation_data=validation_generator,\n",
    "    validation_steps=STEP_SIZE_VALID,\n",
    "    epochs=30,\n",
    "    callbacks=[history, checkpointer, early_stopping])"
   ]
  },
  {
   "cell_type": "code",
   "execution_count": null,
   "metadata": {
    "id": "uYnZGyOUrq1p"
   },
   "outputs": [],
   "source": [
    "plt.figure(figsize=(12, 8))\n",
    "plt.plot(hist.epoch, hist.history['loss'], label='Training Loss')\n",
    "plt.plot(\n",
    "    hist.epoch, hist.history['val_loss'], label='Validation', linestyle='--')\n",
    "plt.xlabel(\"Epochs\")\n",
    "plt.ylabel(\"RMSE\")\n",
    "plt.legend()\n",
    "plt.show()"
   ]
  },
  {
   "cell_type": "code",
   "execution_count": null,
   "metadata": {
    "id": "IUbr-2tJsVa8"
   },
   "outputs": [],
   "source": [
    "import pandas as pd\n",
    "gz_1 = pd.read_csv('/content/drive/MyDrive/Major Project/Galaxy_Morphology/Data/Galaxy_Zoo-1/train/training_solutions_rev1.csv')\n",
    "gz_1"
   ]
  },
  {
   "cell_type": "code",
   "execution_count": null,
   "metadata": {
    "colab": {
     "base_uri": "https://localhost:8080/",
     "height": 505
    },
    "executionInfo": {
     "elapsed": 3338,
     "status": "ok",
     "timestamp": 1649092586986,
     "user": {
      "displayName": "Major Project",
      "userId": "08688060530881520273"
     },
     "user_tz": -330
    },
    "id": "LKr3eUTLfpwH",
    "outputId": "de7703b8-af76-4d03-a763-9fecbe33b5f1"
   },
   "outputs": [],
   "source": [
    "gz_2 = pd.read_csv('/content/drive/MyDrive/Major Project/Galaxy_Morphology/Data/Galaxy_Zoo-2/GZ_2_Processed_classes.csv')\n",
    "gz_2"
   ]
  },
  {
   "cell_type": "code",
   "execution_count": null,
   "metadata": {
    "colab": {
     "base_uri": "https://localhost:8080/"
    },
    "executionInfo": {
     "elapsed": 10,
     "status": "ok",
     "timestamp": 1649092595221,
     "user": {
      "displayName": "Major Project",
      "userId": "08688060530881520273"
     },
     "user_tz": -330
    },
    "id": "z6NZvwr3f1lA",
    "outputId": "6e6c58f8-5568-4928-cf35-76b09a917f63"
   },
   "outputs": [],
   "source": [
    "gz_2.isnull().sum()"
   ]
  },
  {
   "cell_type": "code",
   "execution_count": null,
   "metadata": {
    "id": "IufFpifmlAh0"
   },
   "outputs": [],
   "source": []
  }
 ],
 "metadata": {
  "accelerator": "GPU",
  "colab": {
   "authorship_tag": "ABX9TyPTSD78rLVim/KyNNd86PxD",
   "mount_file_id": "1Ud36LkHTEG6JHqIkJsAhqUVzdngYoUfI",
   "name": "Incremental_Learning_GZ2.ipynb",
   "provenance": []
  },
  "kernelspec": {
   "display_name": "Python 3 (ipykernel)",
   "language": "python",
   "name": "python3"
  },
  "language_info": {
   "codemirror_mode": {
    "name": "ipython",
    "version": 3
   },
   "file_extension": ".py",
   "mimetype": "text/x-python",
   "name": "python",
   "nbconvert_exporter": "python",
   "pygments_lexer": "ipython3",
   "version": "3.9.7"
  }
 },
 "nbformat": 4,
 "nbformat_minor": 1
}

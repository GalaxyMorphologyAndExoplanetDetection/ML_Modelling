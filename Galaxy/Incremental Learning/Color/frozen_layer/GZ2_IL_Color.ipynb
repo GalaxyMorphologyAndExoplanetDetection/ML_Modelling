{
 "cells": [
  {
   "cell_type": "code",
   "execution_count": null,
   "metadata": {
    "executionInfo": {
     "elapsed": 4468,
     "status": "ok",
     "timestamp": 1648999436740,
     "user": {
      "displayName": "Major Project",
      "userId": "08688060530881520273"
     },
     "user_tz": -330
    },
    "id": "bmeZRlZnkXm_"
   },
   "outputs": [],
   "source": [
    "%matplotlib inline\n",
    "import os\n",
    "import matplotlib.pyplot as plt\n",
    "import pandas as pd\n",
    "import numpy as np\n",
    "import random\n",
    "from importlib import reload\n",
    "from tensorflow import keras\n",
    "from keras.preprocessing.image import ImageDataGenerator\n",
    "from keras.layers import Flatten\n",
    "from keras.layers import Dense\n",
    "from keras.layers import Input\n",
    "from keras.models import Model\n",
    "from keras import backend as K\n",
    "import tensorflow as tf\n",
    "import glob\n",
    "from shutil import copyfile\n",
    "from keras.models import load_model\n",
    "from keras import optimizers"
   ]
  },
  {
   "cell_type": "code",
   "execution_count": null,
   "metadata": {
    "colab": {
     "base_uri": "https://localhost:8080/"
    },
    "executionInfo": {
     "elapsed": 54900,
     "status": "ok",
     "timestamp": 1649001364589,
     "user": {
      "displayName": "Major Project",
      "userId": "08688060530881520273"
     },
     "user_tz": -330
    },
    "id": "61KXut-Qkc50",
    "outputId": "5850be3d-a6d8-4531-d005-fca4e22ffa10"
   },
   "outputs": [],
   "source": [
    "img_shape = (224, 224, 3)\n",
    "model = load_model('../../../../Data/GalaxyZoo1/weights/weights.hdf5')\n",
    "model"
   ]
  },
  {
   "cell_type": "code",
   "execution_count": null,
   "metadata": {
    "id": "yrU-p-QxnrgX"
   },
   "outputs": [],
   "source": [
    "classes = [\n",
    "    'Class1.1', 'Class1.2', 'Class1.3', 'Class2.1', 'Class2.2', 'Class3.1',\n",
    "    'Class3.2', 'Class4.1', 'Class4.2', 'Class5.1', 'Class5.2', 'Class5.3',\n",
    "    'Class5.4', 'Class6.1', 'Class6.2', 'Class7.1', 'Class7.2', 'Class7.3',\n",
    "    'Class8.1', 'Class8.2', 'Class8.3', 'Class8.4', 'Class8.5', 'Class8.6',\n",
    "    'Class8.7', 'Class9.1', 'Class9.2', 'Class9.3', 'Class10.1', 'Class10.2',\n",
    "    'Class10.3', 'Class11.1', 'Class11.2', 'Class11.3', 'Class11.4',\n",
    "    'Class11.5', 'Class11.6'\n",
    "] #37 vectors of Galaxy Zoo divided into 11 classes based on the 11 different questions and their responses\n",
    "\n",
    "\n",
    "def append_ext(fn):\n",
    "    '''\n",
    "    This function is used to take the GalaxyID from the CSV and append .jpg to it in order to denote the image names. \n",
    "    '''\n",
    "    return fn + \".jpg\"\n",
    "\n",
    "traindf = pd.read_csv('../../../../Data/GalaxyZoo2/GZ_2_Processed_classes.csv')\n",
    "traindf[\"id\"] = traindf['GalaxyID'].astype(str).apply(append_ext)\n",
    "\n",
    "datagenerator = ImageDataGenerator(\n",
    "    fill_mode='nearest',\n",
    "    cval=0,\n",
    "    rescale=1/255,\n",
    "    rotation_range=90,\n",
    "    width_shift_range=0.1,\n",
    "    height_shift_range=0.1,\n",
    "    horizontal_flip=True,\n",
    "    vertical_flip=True,\n",
    "    validation_split=0.02)\n",
    "\n",
    "train_generator = datagenerator.flow_from_dataframe(\n",
    "    dataframe=traindf,\n",
    "    directory=\"D:/Rahul Noronha/Shared Folder/Eighth Semester/Major Project/Data/images\",\n",
    "    x_col=\"id\",\n",
    "    y_col=classes,\n",
    "    subset=\"training\",\n",
    "    batch_size=16,\n",
    "    seed=123,\n",
    "    shuffle=True,\n",
    "    class_mode=\"raw\",\n",
    "    target_size=(224, 224))\n",
    "\n",
    "validation_generator = datagenerator.flow_from_dataframe(\n",
    "    dataframe=traindf,\n",
    "    directory=\"D:/Rahul Noronha/Shared Folder/Eighth Semester/Major Project/Data/images\",\n",
    "    x_col=\"id\",\n",
    "    y_col=classes,\n",
    "    subset=\"validation\",\n",
    "    batch_size=16,\n",
    "    seed=123,\n",
    "    shuffle=True,\n",
    "    class_mode=\"raw\",\n",
    "    target_size=(224, 224))\n",
    "\n",
    "STEP_SIZE_TRAIN = train_generator.n // train_generator.batch_size\n",
    "STEP_SIZE_VALID = validation_generator.n // validation_generator.batch_size"
   ]
  },
  {
   "cell_type": "code",
   "execution_count": null,
   "metadata": {
    "colab": {
     "base_uri": "https://localhost:8080/"
    },
    "executionInfo": {
     "elapsed": 2716,
     "status": "ok",
     "timestamp": 1649001398729,
     "user": {
      "displayName": "Major Project",
      "userId": "08688060530881520273"
     },
     "user_tz": -330
    },
    "id": "ZoLTwqW5rGG9",
    "outputId": "f2134311-2a6c-44c1-a375-3bdca11fd9c3",
    "scrolled": false
   },
   "outputs": [],
   "source": [
    "print(model.summary())"
   ]
  },
  {
   "cell_type": "code",
   "execution_count": null,
   "metadata": {
    "executionInfo": {
     "elapsed": 711,
     "status": "ok",
     "timestamp": 1649001405334,
     "user": {
      "displayName": "Major Project",
      "userId": "08688060530881520273"
     },
     "user_tz": -330
    },
    "id": "RJHn-JxFrShG"
   },
   "outputs": [],
   "source": [
    "for layer in model.layers:\n",
    "    layer.trainable = True\n",
    "\n",
    "optimizer = keras.optimizers.Adam(learning_rate=0.001, decay=5e-4)\n",
    "\n",
    "model.compile(optimizer, loss='mse', metrics=[\"accuracy\"])"
   ]
  },
  {
   "cell_type": "code",
   "execution_count": null,
   "metadata": {
    "executionInfo": {
     "elapsed": 3,
     "status": "ok",
     "timestamp": 1649001406940,
     "user": {
      "displayName": "Major Project",
      "userId": "08688060530881520273"
     },
     "user_tz": -330
    },
    "id": "wL_p41fYrTnP"
   },
   "outputs": [],
   "source": [
    "from keras.callbacks import Callback\n",
    "from keras.callbacks import ModelCheckpoint, Callback, EarlyStopping\n",
    "\n",
    "\n",
    "class LossHistory(Callback):\n",
    "    def on_train_begin(self, logs={}):\n",
    "        self.losses = []\n",
    "        self.val_losses = []\n",
    "\n",
    "    def on_batch_end(self, batch, logs={}):\n",
    "        self.losses.append(logs.get('loss'))\n",
    "        self.val_losses.append(logs.get('val_loss'))\n",
    "\n",
    "\n",
    "early_stopping = EarlyStopping(\n",
    "    monitor='val_loss', patience=4, verbose=1, mode='auto')\n",
    "\n",
    "history = LossHistory()\n",
    "\n",
    "from keras.callbacks import ModelCheckpoint\n",
    "checkpointer = ModelCheckpoint(\n",
    "    filepath='../../../../Data/GalaxyZoo2/model/frozencolorIL_weights.hdf5', verbose=2, save_best_only=True)"
   ]
  },
  {
   "cell_type": "code",
   "execution_count": null,
   "metadata": {
    "colab": {
     "base_uri": "https://localhost:8080/",
     "height": 380
    },
    "executionInfo": {
     "elapsed": 633582,
     "status": "error",
     "timestamp": 1649002042277,
     "user": {
      "displayName": "Major Project",
      "userId": "08688060530881520273"
     },
     "user_tz": -330
    },
    "id": "RSn3SLMMroE5",
    "outputId": "c8952627-9b54-4d20-f2e2-2c2f5b8aef8f",
    "scrolled": false
   },
   "outputs": [],
   "source": [
    "hist = model.fit(\n",
    "    train_generator,\n",
    "    steps_per_epoch=STEP_SIZE_TRAIN,\n",
    "    validation_data=validation_generator,\n",
    "    validation_steps=STEP_SIZE_VALID,\n",
    "    epochs=30,\n",
    "    callbacks=[history, checkpointer, early_stopping])"
   ]
  },
  {
   "cell_type": "code",
   "execution_count": null,
   "metadata": {
    "executionInfo": {
     "elapsed": 11,
     "status": "aborted",
     "timestamp": 1649000328284,
     "user": {
      "displayName": "Major Project",
      "userId": "08688060530881520273"
     },
     "user_tz": -330
    },
    "id": "uYnZGyOUrq1p"
   },
   "outputs": [],
   "source": [
    "plt.figure(figsize=(12, 8))\n",
    "plt.plot(hist.epoch, hist.history['loss'], label='Training Loss')\n",
    "plt.plot(\n",
    "    hist.epoch, hist.history['val_loss'], label='Validation', linestyle='--')\n",
    "plt.xlabel(\"Epochs\")\n",
    "plt.ylabel(\"RMSE\")\n",
    "plt.legend()\n",
    "plt.show()"
   ]
  }
 ],
 "metadata": {
  "interpreter": {
   "hash": "c286795d2240747419d97fbd8cd42313ed1c96bd68de8ba016fcafb8970261ec"
  },
  "kernelspec": {
   "display_name": "Python 3.9.7 ('majorproject')",
   "language": "python",
   "name": "python3"
  },
  "language_info": {
   "codemirror_mode": {
    "name": "ipython",
    "version": 3
   },
   "file_extension": ".py",
   "mimetype": "text/x-python",
   "name": "python",
   "nbconvert_exporter": "python",
   "pygments_lexer": "ipython3",
   "version": "3.9.7"
  },
  "orig_nbformat": 4
 },
 "nbformat": 4,
 "nbformat_minor": 2
}
